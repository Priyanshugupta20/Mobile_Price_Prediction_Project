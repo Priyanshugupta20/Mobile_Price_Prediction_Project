{
  "cells": [
    {
      "cell_type": "markdown",
      "metadata": {
        "id": "Xy5RdsXGCulc"
      },
      "source": [
        "# **Mobile Price Prediction Project**\n",
        "\n",
        "---"
      ]
    },
    {
      "cell_type": "markdown",
      "metadata": {
        "id": "-cjufESMl_g2"
      },
      "source": [
        "## Importing Necessary Libraries"
      ]
    },
    {
      "cell_type": "code",
      "execution_count": 1,
      "metadata": {
        "id": "jAlJJSWBzYzd"
      },
      "outputs": [],
      "source": [
        "import numpy as np\n",
        "import pandas as pd\n",
        "import matplotlib.pyplot as plt\n",
        "import seaborn as sns\n",
        "import sklearn"
      ]
    },
    {
      "cell_type": "markdown",
      "metadata": {
        "id": "KsmPiNNVlpE2"
      },
      "source": [
        "##Reading The Data"
      ]
    },
    {
      "cell_type": "code",
      "execution_count": 2,
      "metadata": {
        "colab": {
          "base_uri": "https://localhost:8080/",
          "height": 477
        },
        "id": "BRRBSWtZz-l-",
        "outputId": "d257db69-85d1-4d23-99cb-931bccffc5de"
      },
      "outputs": [
        {
          "data": {
            "text/html": [
              "<div>\n",
              "<style scoped>\n",
              "    .dataframe tbody tr th:only-of-type {\n",
              "        vertical-align: middle;\n",
              "    }\n",
              "\n",
              "    .dataframe tbody tr th {\n",
              "        vertical-align: top;\n",
              "    }\n",
              "\n",
              "    .dataframe thead th {\n",
              "        text-align: right;\n",
              "    }\n",
              "</style>\n",
              "<table border=\"1\" class=\"dataframe\">\n",
              "  <thead>\n",
              "    <tr style=\"text-align: right;\">\n",
              "      <th></th>\n",
              "      <th>Name</th>\n",
              "      <th>Brand</th>\n",
              "      <th>Model</th>\n",
              "      <th>Battery capacity (mAh)</th>\n",
              "      <th>Screen size (inches)</th>\n",
              "      <th>Touchscreen</th>\n",
              "      <th>Resolution x</th>\n",
              "      <th>Resolution y</th>\n",
              "      <th>Processor</th>\n",
              "      <th>RAM (MB)</th>\n",
              "      <th>...</th>\n",
              "      <th>Rear camera</th>\n",
              "      <th>Front camera</th>\n",
              "      <th>Operating system</th>\n",
              "      <th>Wi-Fi</th>\n",
              "      <th>Bluetooth</th>\n",
              "      <th>GPS</th>\n",
              "      <th>Number of SIMs</th>\n",
              "      <th>3G</th>\n",
              "      <th>4G/ LTE</th>\n",
              "      <th>Price</th>\n",
              "    </tr>\n",
              "    <tr>\n",
              "      <th>Sr. No.</th>\n",
              "      <th></th>\n",
              "      <th></th>\n",
              "      <th></th>\n",
              "      <th></th>\n",
              "      <th></th>\n",
              "      <th></th>\n",
              "      <th></th>\n",
              "      <th></th>\n",
              "      <th></th>\n",
              "      <th></th>\n",
              "      <th></th>\n",
              "      <th></th>\n",
              "      <th></th>\n",
              "      <th></th>\n",
              "      <th></th>\n",
              "      <th></th>\n",
              "      <th></th>\n",
              "      <th></th>\n",
              "      <th></th>\n",
              "      <th></th>\n",
              "      <th></th>\n",
              "    </tr>\n",
              "  </thead>\n",
              "  <tbody>\n",
              "    <tr>\n",
              "      <th>0</th>\n",
              "      <td>OnePlus 7T Pro McLaren Edition</td>\n",
              "      <td>OnePlus</td>\n",
              "      <td>7T Pro McLaren Edition</td>\n",
              "      <td>4085</td>\n",
              "      <td>6.67</td>\n",
              "      <td>Yes</td>\n",
              "      <td>1440</td>\n",
              "      <td>3120</td>\n",
              "      <td>8</td>\n",
              "      <td>12000</td>\n",
              "      <td>...</td>\n",
              "      <td>48.0</td>\n",
              "      <td>16.0</td>\n",
              "      <td>Android</td>\n",
              "      <td>Yes</td>\n",
              "      <td>Yes</td>\n",
              "      <td>Yes</td>\n",
              "      <td>2</td>\n",
              "      <td>Yes</td>\n",
              "      <td>Yes</td>\n",
              "      <td>58998</td>\n",
              "    </tr>\n",
              "    <tr>\n",
              "      <th>1</th>\n",
              "      <td>Realme X2 Pro</td>\n",
              "      <td>Realme</td>\n",
              "      <td>X2 Pro</td>\n",
              "      <td>4000</td>\n",
              "      <td>6.50</td>\n",
              "      <td>Yes</td>\n",
              "      <td>1080</td>\n",
              "      <td>2400</td>\n",
              "      <td>8</td>\n",
              "      <td>6000</td>\n",
              "      <td>...</td>\n",
              "      <td>64.0</td>\n",
              "      <td>16.0</td>\n",
              "      <td>Android</td>\n",
              "      <td>Yes</td>\n",
              "      <td>Yes</td>\n",
              "      <td>Yes</td>\n",
              "      <td>2</td>\n",
              "      <td>Yes</td>\n",
              "      <td>Yes</td>\n",
              "      <td>27999</td>\n",
              "    </tr>\n",
              "    <tr>\n",
              "      <th>2</th>\n",
              "      <td>iPhone 11 Pro Max</td>\n",
              "      <td>Apple</td>\n",
              "      <td>iPhone 11 Pro Max</td>\n",
              "      <td>3969</td>\n",
              "      <td>6.50</td>\n",
              "      <td>Yes</td>\n",
              "      <td>1242</td>\n",
              "      <td>2688</td>\n",
              "      <td>6</td>\n",
              "      <td>4000</td>\n",
              "      <td>...</td>\n",
              "      <td>12.0</td>\n",
              "      <td>12.0</td>\n",
              "      <td>iOS</td>\n",
              "      <td>Yes</td>\n",
              "      <td>Yes</td>\n",
              "      <td>Yes</td>\n",
              "      <td>2</td>\n",
              "      <td>Yes</td>\n",
              "      <td>Yes</td>\n",
              "      <td>106900</td>\n",
              "    </tr>\n",
              "    <tr>\n",
              "      <th>3</th>\n",
              "      <td>iPhone 11</td>\n",
              "      <td>Apple</td>\n",
              "      <td>iPhone 11</td>\n",
              "      <td>3110</td>\n",
              "      <td>6.10</td>\n",
              "      <td>Yes</td>\n",
              "      <td>828</td>\n",
              "      <td>1792</td>\n",
              "      <td>6</td>\n",
              "      <td>4000</td>\n",
              "      <td>...</td>\n",
              "      <td>12.0</td>\n",
              "      <td>12.0</td>\n",
              "      <td>iOS</td>\n",
              "      <td>Yes</td>\n",
              "      <td>Yes</td>\n",
              "      <td>Yes</td>\n",
              "      <td>2</td>\n",
              "      <td>Yes</td>\n",
              "      <td>Yes</td>\n",
              "      <td>62900</td>\n",
              "    </tr>\n",
              "    <tr>\n",
              "      <th>4</th>\n",
              "      <td>LG G8X ThinQ</td>\n",
              "      <td>LG</td>\n",
              "      <td>G8X ThinQ</td>\n",
              "      <td>4000</td>\n",
              "      <td>6.40</td>\n",
              "      <td>Yes</td>\n",
              "      <td>1080</td>\n",
              "      <td>2340</td>\n",
              "      <td>8</td>\n",
              "      <td>6000</td>\n",
              "      <td>...</td>\n",
              "      <td>12.0</td>\n",
              "      <td>32.0</td>\n",
              "      <td>Android</td>\n",
              "      <td>Yes</td>\n",
              "      <td>Yes</td>\n",
              "      <td>Yes</td>\n",
              "      <td>1</td>\n",
              "      <td>No</td>\n",
              "      <td>No</td>\n",
              "      <td>49990</td>\n",
              "    </tr>\n",
              "  </tbody>\n",
              "</table>\n",
              "<p>5 rows × 21 columns</p>\n",
              "</div>"
            ],
            "text/plain": [
              "                                   Name    Brand                   Model  \\\n",
              "Sr. No.                                                                    \n",
              "0        OnePlus 7T Pro McLaren Edition  OnePlus  7T Pro McLaren Edition   \n",
              "1                         Realme X2 Pro   Realme                  X2 Pro   \n",
              "2                     iPhone 11 Pro Max    Apple       iPhone 11 Pro Max   \n",
              "3                             iPhone 11    Apple               iPhone 11   \n",
              "4                          LG G8X ThinQ       LG               G8X ThinQ   \n",
              "\n",
              "         Battery capacity (mAh)  Screen size (inches) Touchscreen  \\\n",
              "Sr. No.                                                             \n",
              "0                          4085                  6.67         Yes   \n",
              "1                          4000                  6.50         Yes   \n",
              "2                          3969                  6.50         Yes   \n",
              "3                          3110                  6.10         Yes   \n",
              "4                          4000                  6.40         Yes   \n",
              "\n",
              "         Resolution x  Resolution y  Processor  RAM (MB)  ...  Rear camera  \\\n",
              "Sr. No.                                                   ...                \n",
              "0                1440          3120          8     12000  ...         48.0   \n",
              "1                1080          2400          8      6000  ...         64.0   \n",
              "2                1242          2688          6      4000  ...         12.0   \n",
              "3                 828          1792          6      4000  ...         12.0   \n",
              "4                1080          2340          8      6000  ...         12.0   \n",
              "\n",
              "         Front camera  Operating system Wi-Fi Bluetooth  GPS Number of SIMs  \\\n",
              "Sr. No.                                                                       \n",
              "0                16.0           Android   Yes       Yes  Yes              2   \n",
              "1                16.0           Android   Yes       Yes  Yes              2   \n",
              "2                12.0               iOS   Yes       Yes  Yes              2   \n",
              "3                12.0               iOS   Yes       Yes  Yes              2   \n",
              "4                32.0           Android   Yes       Yes  Yes              1   \n",
              "\n",
              "          3G 4G/ LTE   Price  \n",
              "Sr. No.                       \n",
              "0        Yes     Yes   58998  \n",
              "1        Yes     Yes   27999  \n",
              "2        Yes     Yes  106900  \n",
              "3        Yes     Yes   62900  \n",
              "4         No      No   49990  \n",
              "\n",
              "[5 rows x 21 columns]"
            ]
          },
          "execution_count": 2,
          "metadata": {},
          "output_type": "execute_result"
        }
      ],
      "source": [
        "df=pd.read_csv('Mobilephone_data_final - ndtv_data_final.csv',index_col ='Sr. No.')\n",
        "df.head()"
      ]
    },
    {
      "cell_type": "code",
      "execution_count": 3,
      "metadata": {
        "colab": {
          "base_uri": "https://localhost:8080/"
        },
        "id": "bJWijndc0Ouq",
        "outputId": "61f17bcf-248c-4cc7-c9a0-d6f6266c629d"
      },
      "outputs": [
        {
          "data": {
            "text/plain": [
              "Index(['Name', 'Brand', 'Model', 'Battery capacity (mAh)',\n",
              "       'Screen size (inches)', 'Touchscreen', 'Resolution x', 'Resolution y',\n",
              "       'Processor', 'RAM (MB)', 'Internal storage (GB)', 'Rear camera',\n",
              "       'Front camera', 'Operating system', 'Wi-Fi', 'Bluetooth', 'GPS',\n",
              "       'Number of SIMs', '3G', '4G/ LTE', 'Price'],\n",
              "      dtype='object')"
            ]
          },
          "execution_count": 3,
          "metadata": {},
          "output_type": "execute_result"
        }
      ],
      "source": [
        "# Checking Columns\n",
        "df.columns"
      ]
    },
    {
      "cell_type": "code",
      "execution_count": 4,
      "metadata": {
        "colab": {
          "base_uri": "https://localhost:8080/"
        },
        "id": "OdIm67qTDfJV",
        "outputId": "4acacad0-e389-4acd-fa9b-91b9213323d6"
      },
      "outputs": [
        {
          "name": "stdout",
          "output_type": "stream",
          "text": [
            "<class 'pandas.core.frame.DataFrame'>\n",
            "Index: 1359 entries, 0 to 1358\n",
            "Data columns (total 21 columns):\n",
            " #   Column                  Non-Null Count  Dtype  \n",
            "---  ------                  --------------  -----  \n",
            " 0   Name                    1359 non-null   object \n",
            " 1   Brand                   1359 non-null   object \n",
            " 2   Model                   1359 non-null   object \n",
            " 3   Battery capacity (mAh)  1359 non-null   int64  \n",
            " 4   Screen size (inches)    1359 non-null   float64\n",
            " 5   Touchscreen             1359 non-null   object \n",
            " 6   Resolution x            1359 non-null   int64  \n",
            " 7   Resolution y            1359 non-null   int64  \n",
            " 8   Processor               1359 non-null   int64  \n",
            " 9   RAM (MB)                1359 non-null   int64  \n",
            " 10  Internal storage (GB)   1359 non-null   float64\n",
            " 11  Rear camera             1359 non-null   float64\n",
            " 12  Front camera            1359 non-null   float64\n",
            " 13  Operating system        1359 non-null   object \n",
            " 14  Wi-Fi                   1359 non-null   object \n",
            " 15  Bluetooth               1359 non-null   object \n",
            " 16  GPS                     1359 non-null   object \n",
            " 17  Number of SIMs          1359 non-null   int64  \n",
            " 18  3G                      1359 non-null   object \n",
            " 19  4G/ LTE                 1359 non-null   object \n",
            " 20  Price                   1359 non-null   int64  \n",
            "dtypes: float64(4), int64(7), object(10)\n",
            "memory usage: 233.6+ KB\n"
          ]
        }
      ],
      "source": [
        "# Getting info about our data\n",
        "df.info()"
      ]
    },
    {
      "cell_type": "code",
      "execution_count": 5,
      "metadata": {
        "colab": {
          "base_uri": "https://localhost:8080/",
          "height": 317
        },
        "id": "4GBD7TtgEMjh",
        "outputId": "ea00d84a-a077-4649-d853-27b32227dd46"
      },
      "outputs": [
        {
          "data": {
            "text/html": [
              "<div>\n",
              "<style scoped>\n",
              "    .dataframe tbody tr th:only-of-type {\n",
              "        vertical-align: middle;\n",
              "    }\n",
              "\n",
              "    .dataframe tbody tr th {\n",
              "        vertical-align: top;\n",
              "    }\n",
              "\n",
              "    .dataframe thead th {\n",
              "        text-align: right;\n",
              "    }\n",
              "</style>\n",
              "<table border=\"1\" class=\"dataframe\">\n",
              "  <thead>\n",
              "    <tr style=\"text-align: right;\">\n",
              "      <th></th>\n",
              "      <th>Battery capacity (mAh)</th>\n",
              "      <th>Screen size (inches)</th>\n",
              "      <th>Resolution x</th>\n",
              "      <th>Resolution y</th>\n",
              "      <th>Processor</th>\n",
              "      <th>RAM (MB)</th>\n",
              "      <th>Internal storage (GB)</th>\n",
              "      <th>Rear camera</th>\n",
              "      <th>Front camera</th>\n",
              "      <th>Number of SIMs</th>\n",
              "      <th>Price</th>\n",
              "    </tr>\n",
              "  </thead>\n",
              "  <tbody>\n",
              "    <tr>\n",
              "      <th>count</th>\n",
              "      <td>1359.000000</td>\n",
              "      <td>1359.000000</td>\n",
              "      <td>1359.000000</td>\n",
              "      <td>1359.000000</td>\n",
              "      <td>1359.000000</td>\n",
              "      <td>1359.000000</td>\n",
              "      <td>1359.000000</td>\n",
              "      <td>1359.000000</td>\n",
              "      <td>1359.000000</td>\n",
              "      <td>1359.000000</td>\n",
              "      <td>1359.000000</td>\n",
              "    </tr>\n",
              "    <tr>\n",
              "      <th>mean</th>\n",
              "      <td>2938.489330</td>\n",
              "      <td>5.291310</td>\n",
              "      <td>811.543046</td>\n",
              "      <td>1490.777778</td>\n",
              "      <td>5.551141</td>\n",
              "      <td>2488.777778</td>\n",
              "      <td>30.654864</td>\n",
              "      <td>12.070199</td>\n",
              "      <td>7.037969</td>\n",
              "      <td>1.833701</td>\n",
              "      <td>11465.825607</td>\n",
              "    </tr>\n",
              "    <tr>\n",
              "      <th>std</th>\n",
              "      <td>873.514133</td>\n",
              "      <td>0.671357</td>\n",
              "      <td>270.707271</td>\n",
              "      <td>557.780120</td>\n",
              "      <td>2.196562</td>\n",
              "      <td>1664.440386</td>\n",
              "      <td>36.950241</td>\n",
              "      <td>8.948337</td>\n",
              "      <td>6.295448</td>\n",
              "      <td>0.374457</td>\n",
              "      <td>13857.497077</td>\n",
              "    </tr>\n",
              "    <tr>\n",
              "      <th>min</th>\n",
              "      <td>1010.000000</td>\n",
              "      <td>2.400000</td>\n",
              "      <td>240.000000</td>\n",
              "      <td>320.000000</td>\n",
              "      <td>1.000000</td>\n",
              "      <td>64.000000</td>\n",
              "      <td>0.064000</td>\n",
              "      <td>0.000000</td>\n",
              "      <td>0.000000</td>\n",
              "      <td>1.000000</td>\n",
              "      <td>494.000000</td>\n",
              "    </tr>\n",
              "    <tr>\n",
              "      <th>25%</th>\n",
              "      <td>2300.000000</td>\n",
              "      <td>5.000000</td>\n",
              "      <td>720.000000</td>\n",
              "      <td>1280.000000</td>\n",
              "      <td>4.000000</td>\n",
              "      <td>1000.000000</td>\n",
              "      <td>8.000000</td>\n",
              "      <td>8.000000</td>\n",
              "      <td>2.000000</td>\n",
              "      <td>2.000000</td>\n",
              "      <td>4763.500000</td>\n",
              "    </tr>\n",
              "    <tr>\n",
              "      <th>50%</th>\n",
              "      <td>3000.000000</td>\n",
              "      <td>5.200000</td>\n",
              "      <td>720.000000</td>\n",
              "      <td>1280.000000</td>\n",
              "      <td>4.000000</td>\n",
              "      <td>2000.000000</td>\n",
              "      <td>16.000000</td>\n",
              "      <td>12.200000</td>\n",
              "      <td>5.000000</td>\n",
              "      <td>2.000000</td>\n",
              "      <td>6999.000000</td>\n",
              "    </tr>\n",
              "    <tr>\n",
              "      <th>75%</th>\n",
              "      <td>3500.000000</td>\n",
              "      <td>5.700000</td>\n",
              "      <td>1080.000000</td>\n",
              "      <td>1920.000000</td>\n",
              "      <td>8.000000</td>\n",
              "      <td>3000.000000</td>\n",
              "      <td>32.000000</td>\n",
              "      <td>13.000000</td>\n",
              "      <td>8.000000</td>\n",
              "      <td>2.000000</td>\n",
              "      <td>11999.000000</td>\n",
              "    </tr>\n",
              "    <tr>\n",
              "      <th>max</th>\n",
              "      <td>6000.000000</td>\n",
              "      <td>7.300000</td>\n",
              "      <td>2160.000000</td>\n",
              "      <td>3840.000000</td>\n",
              "      <td>10.000000</td>\n",
              "      <td>12000.000000</td>\n",
              "      <td>512.000000</td>\n",
              "      <td>108.000000</td>\n",
              "      <td>48.000000</td>\n",
              "      <td>3.000000</td>\n",
              "      <td>174990.000000</td>\n",
              "    </tr>\n",
              "  </tbody>\n",
              "</table>\n",
              "</div>"
            ],
            "text/plain": [
              "       Battery capacity (mAh)  Screen size (inches)  Resolution x  \\\n",
              "count             1359.000000           1359.000000   1359.000000   \n",
              "mean              2938.489330              5.291310    811.543046   \n",
              "std                873.514133              0.671357    270.707271   \n",
              "min               1010.000000              2.400000    240.000000   \n",
              "25%               2300.000000              5.000000    720.000000   \n",
              "50%               3000.000000              5.200000    720.000000   \n",
              "75%               3500.000000              5.700000   1080.000000   \n",
              "max               6000.000000              7.300000   2160.000000   \n",
              "\n",
              "       Resolution y    Processor      RAM (MB)  Internal storage (GB)  \\\n",
              "count   1359.000000  1359.000000   1359.000000            1359.000000   \n",
              "mean    1490.777778     5.551141   2488.777778              30.654864   \n",
              "std      557.780120     2.196562   1664.440386              36.950241   \n",
              "min      320.000000     1.000000     64.000000               0.064000   \n",
              "25%     1280.000000     4.000000   1000.000000               8.000000   \n",
              "50%     1280.000000     4.000000   2000.000000              16.000000   \n",
              "75%     1920.000000     8.000000   3000.000000              32.000000   \n",
              "max     3840.000000    10.000000  12000.000000             512.000000   \n",
              "\n",
              "       Rear camera  Front camera  Number of SIMs          Price  \n",
              "count  1359.000000   1359.000000     1359.000000    1359.000000  \n",
              "mean     12.070199      7.037969        1.833701   11465.825607  \n",
              "std       8.948337      6.295448        0.374457   13857.497077  \n",
              "min       0.000000      0.000000        1.000000     494.000000  \n",
              "25%       8.000000      2.000000        2.000000    4763.500000  \n",
              "50%      12.200000      5.000000        2.000000    6999.000000  \n",
              "75%      13.000000      8.000000        2.000000   11999.000000  \n",
              "max     108.000000     48.000000        3.000000  174990.000000  "
            ]
          },
          "execution_count": 5,
          "metadata": {},
          "output_type": "execute_result"
        }
      ],
      "source": [
        "# Performing a small descriptive statistics on numerical Columns\n",
        "df.describe()"
      ]
    },
    {
      "cell_type": "markdown",
      "metadata": {
        "id": "6TMrdiINmR5h"
      },
      "source": [
        "##Cleaning The Data"
      ]
    },
    {
      "cell_type": "code",
      "execution_count": 6,
      "metadata": {
        "colab": {
          "base_uri": "https://localhost:8080/",
          "height": 489
        },
        "id": "tFNl00Cp-dv5",
        "outputId": "67531740-02e1-4f34-b0c2-a4d3e6a80c75"
      },
      "outputs": [
        {
          "data": {
            "text/html": [
              "<div>\n",
              "<style scoped>\n",
              "    .dataframe tbody tr th:only-of-type {\n",
              "        vertical-align: middle;\n",
              "    }\n",
              "\n",
              "    .dataframe tbody tr th {\n",
              "        vertical-align: top;\n",
              "    }\n",
              "\n",
              "    .dataframe thead th {\n",
              "        text-align: right;\n",
              "    }\n",
              "</style>\n",
              "<table border=\"1\" class=\"dataframe\">\n",
              "  <thead>\n",
              "    <tr style=\"text-align: right;\">\n",
              "      <th></th>\n",
              "      <th>Brand</th>\n",
              "      <th>Battery capacity (mAh)</th>\n",
              "      <th>Touchscreen</th>\n",
              "      <th>Processor</th>\n",
              "      <th>RAM (MB)</th>\n",
              "      <th>Internal storage (GB)</th>\n",
              "      <th>Rear camera</th>\n",
              "      <th>Front camera</th>\n",
              "      <th>Operating system</th>\n",
              "      <th>Wi-Fi</th>\n",
              "      <th>Bluetooth</th>\n",
              "      <th>GPS</th>\n",
              "      <th>Number of SIMs</th>\n",
              "      <th>3G</th>\n",
              "      <th>4G/ LTE</th>\n",
              "      <th>Price</th>\n",
              "    </tr>\n",
              "    <tr>\n",
              "      <th>Sr. No.</th>\n",
              "      <th></th>\n",
              "      <th></th>\n",
              "      <th></th>\n",
              "      <th></th>\n",
              "      <th></th>\n",
              "      <th></th>\n",
              "      <th></th>\n",
              "      <th></th>\n",
              "      <th></th>\n",
              "      <th></th>\n",
              "      <th></th>\n",
              "      <th></th>\n",
              "      <th></th>\n",
              "      <th></th>\n",
              "      <th></th>\n",
              "      <th></th>\n",
              "    </tr>\n",
              "  </thead>\n",
              "  <tbody>\n",
              "    <tr>\n",
              "      <th>0</th>\n",
              "      <td>OnePlus</td>\n",
              "      <td>4085</td>\n",
              "      <td>Yes</td>\n",
              "      <td>8</td>\n",
              "      <td>12000</td>\n",
              "      <td>256.000</td>\n",
              "      <td>48.0</td>\n",
              "      <td>16.0</td>\n",
              "      <td>Android</td>\n",
              "      <td>Yes</td>\n",
              "      <td>Yes</td>\n",
              "      <td>Yes</td>\n",
              "      <td>2</td>\n",
              "      <td>Yes</td>\n",
              "      <td>Yes</td>\n",
              "      <td>58998</td>\n",
              "    </tr>\n",
              "    <tr>\n",
              "      <th>1</th>\n",
              "      <td>Realme</td>\n",
              "      <td>4000</td>\n",
              "      <td>Yes</td>\n",
              "      <td>8</td>\n",
              "      <td>6000</td>\n",
              "      <td>64.000</td>\n",
              "      <td>64.0</td>\n",
              "      <td>16.0</td>\n",
              "      <td>Android</td>\n",
              "      <td>Yes</td>\n",
              "      <td>Yes</td>\n",
              "      <td>Yes</td>\n",
              "      <td>2</td>\n",
              "      <td>Yes</td>\n",
              "      <td>Yes</td>\n",
              "      <td>27999</td>\n",
              "    </tr>\n",
              "    <tr>\n",
              "      <th>2</th>\n",
              "      <td>Apple</td>\n",
              "      <td>3969</td>\n",
              "      <td>Yes</td>\n",
              "      <td>6</td>\n",
              "      <td>4000</td>\n",
              "      <td>64.000</td>\n",
              "      <td>12.0</td>\n",
              "      <td>12.0</td>\n",
              "      <td>iOS</td>\n",
              "      <td>Yes</td>\n",
              "      <td>Yes</td>\n",
              "      <td>Yes</td>\n",
              "      <td>2</td>\n",
              "      <td>Yes</td>\n",
              "      <td>Yes</td>\n",
              "      <td>106900</td>\n",
              "    </tr>\n",
              "    <tr>\n",
              "      <th>3</th>\n",
              "      <td>Apple</td>\n",
              "      <td>3110</td>\n",
              "      <td>Yes</td>\n",
              "      <td>6</td>\n",
              "      <td>4000</td>\n",
              "      <td>64.000</td>\n",
              "      <td>12.0</td>\n",
              "      <td>12.0</td>\n",
              "      <td>iOS</td>\n",
              "      <td>Yes</td>\n",
              "      <td>Yes</td>\n",
              "      <td>Yes</td>\n",
              "      <td>2</td>\n",
              "      <td>Yes</td>\n",
              "      <td>Yes</td>\n",
              "      <td>62900</td>\n",
              "    </tr>\n",
              "    <tr>\n",
              "      <th>4</th>\n",
              "      <td>LG</td>\n",
              "      <td>4000</td>\n",
              "      <td>Yes</td>\n",
              "      <td>8</td>\n",
              "      <td>6000</td>\n",
              "      <td>128.000</td>\n",
              "      <td>12.0</td>\n",
              "      <td>32.0</td>\n",
              "      <td>Android</td>\n",
              "      <td>Yes</td>\n",
              "      <td>Yes</td>\n",
              "      <td>Yes</td>\n",
              "      <td>1</td>\n",
              "      <td>No</td>\n",
              "      <td>No</td>\n",
              "      <td>49990</td>\n",
              "    </tr>\n",
              "    <tr>\n",
              "      <th>...</th>\n",
              "      <td>...</td>\n",
              "      <td>...</td>\n",
              "      <td>...</td>\n",
              "      <td>...</td>\n",
              "      <td>...</td>\n",
              "      <td>...</td>\n",
              "      <td>...</td>\n",
              "      <td>...</td>\n",
              "      <td>...</td>\n",
              "      <td>...</td>\n",
              "      <td>...</td>\n",
              "      <td>...</td>\n",
              "      <td>...</td>\n",
              "      <td>...</td>\n",
              "      <td>...</td>\n",
              "      <td>...</td>\n",
              "    </tr>\n",
              "    <tr>\n",
              "      <th>1354</th>\n",
              "      <td>Intex</td>\n",
              "      <td>1500</td>\n",
              "      <td>Yes</td>\n",
              "      <td>4</td>\n",
              "      <td>512</td>\n",
              "      <td>8.000</td>\n",
              "      <td>5.0</td>\n",
              "      <td>0.3</td>\n",
              "      <td>Android</td>\n",
              "      <td>Yes</td>\n",
              "      <td>Yes</td>\n",
              "      <td>Yes</td>\n",
              "      <td>2</td>\n",
              "      <td>Yes</td>\n",
              "      <td>No</td>\n",
              "      <td>2599</td>\n",
              "    </tr>\n",
              "    <tr>\n",
              "      <th>1355</th>\n",
              "      <td>Videocon</td>\n",
              "      <td>2000</td>\n",
              "      <td>Yes</td>\n",
              "      <td>4</td>\n",
              "      <td>1000</td>\n",
              "      <td>8.000</td>\n",
              "      <td>8.0</td>\n",
              "      <td>5.0</td>\n",
              "      <td>Android</td>\n",
              "      <td>Yes</td>\n",
              "      <td>Yes</td>\n",
              "      <td>Yes</td>\n",
              "      <td>2</td>\n",
              "      <td>Yes</td>\n",
              "      <td>No</td>\n",
              "      <td>2940</td>\n",
              "    </tr>\n",
              "    <tr>\n",
              "      <th>1356</th>\n",
              "      <td>Intex</td>\n",
              "      <td>1700</td>\n",
              "      <td>Yes</td>\n",
              "      <td>2</td>\n",
              "      <td>512</td>\n",
              "      <td>4.000</td>\n",
              "      <td>5.0</td>\n",
              "      <td>2.0</td>\n",
              "      <td>Android</td>\n",
              "      <td>Yes</td>\n",
              "      <td>Yes</td>\n",
              "      <td>No</td>\n",
              "      <td>2</td>\n",
              "      <td>Yes</td>\n",
              "      <td>No</td>\n",
              "      <td>2999</td>\n",
              "    </tr>\n",
              "    <tr>\n",
              "      <th>1357</th>\n",
              "      <td>iBall</td>\n",
              "      <td>1250</td>\n",
              "      <td>Yes</td>\n",
              "      <td>1</td>\n",
              "      <td>256</td>\n",
              "      <td>0.512</td>\n",
              "      <td>2.0</td>\n",
              "      <td>0.3</td>\n",
              "      <td>Android</td>\n",
              "      <td>Yes</td>\n",
              "      <td>Yes</td>\n",
              "      <td>Yes</td>\n",
              "      <td>2</td>\n",
              "      <td>Yes</td>\n",
              "      <td>No</td>\n",
              "      <td>2498</td>\n",
              "    </tr>\n",
              "    <tr>\n",
              "      <th>1358</th>\n",
              "      <td>iBall</td>\n",
              "      <td>2150</td>\n",
              "      <td>Yes</td>\n",
              "      <td>4</td>\n",
              "      <td>1000</td>\n",
              "      <td>8.000</td>\n",
              "      <td>8.0</td>\n",
              "      <td>0.0</td>\n",
              "      <td>Android</td>\n",
              "      <td>Yes</td>\n",
              "      <td>Yes</td>\n",
              "      <td>Yes</td>\n",
              "      <td>2</td>\n",
              "      <td>Yes</td>\n",
              "      <td>No</td>\n",
              "      <td>3999</td>\n",
              "    </tr>\n",
              "  </tbody>\n",
              "</table>\n",
              "<p>1359 rows × 16 columns</p>\n",
              "</div>"
            ],
            "text/plain": [
              "            Brand  Battery capacity (mAh) Touchscreen  Processor  RAM (MB)  \\\n",
              "Sr. No.                                                                      \n",
              "0         OnePlus                    4085         Yes          8     12000   \n",
              "1          Realme                    4000         Yes          8      6000   \n",
              "2           Apple                    3969         Yes          6      4000   \n",
              "3           Apple                    3110         Yes          6      4000   \n",
              "4              LG                    4000         Yes          8      6000   \n",
              "...           ...                     ...         ...        ...       ...   \n",
              "1354        Intex                    1500         Yes          4       512   \n",
              "1355     Videocon                    2000         Yes          4      1000   \n",
              "1356        Intex                    1700         Yes          2       512   \n",
              "1357        iBall                    1250         Yes          1       256   \n",
              "1358        iBall                    2150         Yes          4      1000   \n",
              "\n",
              "         Internal storage (GB)  Rear camera  Front camera Operating system  \\\n",
              "Sr. No.                                                                      \n",
              "0                      256.000         48.0          16.0          Android   \n",
              "1                       64.000         64.0          16.0          Android   \n",
              "2                       64.000         12.0          12.0              iOS   \n",
              "3                       64.000         12.0          12.0              iOS   \n",
              "4                      128.000         12.0          32.0          Android   \n",
              "...                        ...          ...           ...              ...   \n",
              "1354                     8.000          5.0           0.3          Android   \n",
              "1355                     8.000          8.0           5.0          Android   \n",
              "1356                     4.000          5.0           2.0          Android   \n",
              "1357                     0.512          2.0           0.3          Android   \n",
              "1358                     8.000          8.0           0.0          Android   \n",
              "\n",
              "        Wi-Fi Bluetooth  GPS  Number of SIMs   3G 4G/ LTE   Price  \n",
              "Sr. No.                                                            \n",
              "0         Yes       Yes  Yes               2  Yes     Yes   58998  \n",
              "1         Yes       Yes  Yes               2  Yes     Yes   27999  \n",
              "2         Yes       Yes  Yes               2  Yes     Yes  106900  \n",
              "3         Yes       Yes  Yes               2  Yes     Yes   62900  \n",
              "4         Yes       Yes  Yes               1   No      No   49990  \n",
              "...       ...       ...  ...             ...  ...     ...     ...  \n",
              "1354      Yes       Yes  Yes               2  Yes      No    2599  \n",
              "1355      Yes       Yes  Yes               2  Yes      No    2940  \n",
              "1356      Yes       Yes   No               2  Yes      No    2999  \n",
              "1357      Yes       Yes  Yes               2  Yes      No    2498  \n",
              "1358      Yes       Yes  Yes               2  Yes      No    3999  \n",
              "\n",
              "[1359 rows x 16 columns]"
            ]
          },
          "execution_count": 6,
          "metadata": {},
          "output_type": "execute_result"
        }
      ],
      "source": [
        "# Dropping Unnecessay Columns from the data\n",
        "df1=df.drop(['Name','Model','Screen size (inches)','Resolution x', 'Resolution y'],axis=1)\n",
        "df1"
      ]
    },
    {
      "cell_type": "code",
      "execution_count": 7,
      "metadata": {
        "colab": {
          "base_uri": "https://localhost:8080/",
          "height": 742
        },
        "id": "WcsXTKqrAO85",
        "outputId": "80d6f6ea-0cb8-43b7-9855-9b7c2331f5fa"
      },
      "outputs": [
        {
          "data": {
            "text/plain": [
              "Name                      0\n",
              "Brand                     0\n",
              "Model                     0\n",
              "Battery capacity (mAh)    0\n",
              "Screen size (inches)      0\n",
              "Touchscreen               0\n",
              "Resolution x              0\n",
              "Resolution y              0\n",
              "Processor                 0\n",
              "RAM (MB)                  0\n",
              "Internal storage (GB)     0\n",
              "Rear camera               0\n",
              "Front camera              0\n",
              "Operating system          0\n",
              "Wi-Fi                     0\n",
              "Bluetooth                 0\n",
              "GPS                       0\n",
              "Number of SIMs            0\n",
              "3G                        0\n",
              "4G/ LTE                   0\n",
              "Price                     0\n",
              "dtype: int64"
            ]
          },
          "execution_count": 7,
          "metadata": {},
          "output_type": "execute_result"
        }
      ],
      "source": [
        "# Checking Null Values\n",
        "df.isnull().sum()"
      ]
    },
    {
      "cell_type": "code",
      "execution_count": 8,
      "metadata": {
        "colab": {
          "base_uri": "https://localhost:8080/"
        },
        "id": "OC2FEq7qAVzU",
        "outputId": "476da02a-f1c1-486b-8bb5-3deef7cfe95b"
      },
      "outputs": [
        {
          "data": {
            "text/plain": [
              "0"
            ]
          },
          "execution_count": 8,
          "metadata": {},
          "output_type": "execute_result"
        }
      ],
      "source": [
        "# Checking Duplicate values in dataset\n",
        "df.duplicated().sum()"
      ]
    },
    {
      "cell_type": "code",
      "execution_count": 9,
      "metadata": {
        "id": "3zcn_-FEAmrv"
      },
      "outputs": [],
      "source": [
        "# Separating Numerical Data from Dataset\n",
        "num_df=df[['Battery capacity (mAh)','Processor', 'RAM (MB)', 'Internal storage (GB)', 'Rear camera','Front camera', 'Number of SIMs','Price']]"
      ]
    },
    {
      "cell_type": "code",
      "execution_count": 10,
      "metadata": {
        "colab": {
          "base_uri": "https://localhost:8080/",
          "height": 512
        },
        "id": "v0dB2NesBjNs",
        "outputId": "19516539-33a7-4c89-edc8-c970747e704e"
      },
      "outputs": [
        {
          "data": {
            "text/plain": [
              "<Axes: >"
            ]
          },
          "execution_count": 10,
          "metadata": {},
          "output_type": "execute_result"
        },
        {
          "data": {
            "image/png": "[encoded data removed]",
            "text/plain": [
              "<Figure size 3000x1000 with 1 Axes>"
            ]
          },
          "metadata": {},
          "output_type": "display_data"
        }
      ],
      "source": [
        "plt.figure(figsize=(30,10))\n",
        "sns.boxplot(num_df)"
      ]
    },
    {
      "cell_type": "markdown",
      "metadata": {
        "id": "KcvXXH7fHhu6"
      },
      "source": [
        "## Data Insights"
      ]
    },
    {
      "cell_type": "code",
      "execution_count": 11,
      "metadata": {
        "colab": {
          "base_uri": "https://localhost:8080/",
          "height": 300
        },
        "id": "JMslLRt682uZ",
        "outputId": "d893213a-af03-4dcd-e115-ec523164397d"
      },
      "outputs": [
        {
          "data": {
            "text/html": [
              "<div>\n",
              "<style scoped>\n",
              "    .dataframe tbody tr th:only-of-type {\n",
              "        vertical-align: middle;\n",
              "    }\n",
              "\n",
              "    .dataframe tbody tr th {\n",
              "        vertical-align: top;\n",
              "    }\n",
              "\n",
              "    .dataframe thead th {\n",
              "        text-align: right;\n",
              "    }\n",
              "</style>\n",
              "<table border=\"1\" class=\"dataframe\">\n",
              "  <thead>\n",
              "    <tr style=\"text-align: right;\">\n",
              "      <th></th>\n",
              "      <th>Battery capacity (mAh)</th>\n",
              "      <th>Processor</th>\n",
              "      <th>RAM (MB)</th>\n",
              "      <th>Internal storage (GB)</th>\n",
              "      <th>Rear camera</th>\n",
              "      <th>Front camera</th>\n",
              "      <th>Number of SIMs</th>\n",
              "      <th>Price</th>\n",
              "    </tr>\n",
              "  </thead>\n",
              "  <tbody>\n",
              "    <tr>\n",
              "      <th>Battery capacity (mAh)</th>\n",
              "      <td>1.000000</td>\n",
              "      <td>0.538017</td>\n",
              "      <td>0.600969</td>\n",
              "      <td>0.483489</td>\n",
              "      <td>0.499756</td>\n",
              "      <td>0.540250</td>\n",
              "      <td>0.040151</td>\n",
              "      <td>0.297525</td>\n",
              "    </tr>\n",
              "    <tr>\n",
              "      <th>Processor</th>\n",
              "      <td>0.538017</td>\n",
              "      <td>1.000000</td>\n",
              "      <td>0.615097</td>\n",
              "      <td>0.481688</td>\n",
              "      <td>0.468668</td>\n",
              "      <td>0.556287</td>\n",
              "      <td>0.039891</td>\n",
              "      <td>0.302492</td>\n",
              "    </tr>\n",
              "    <tr>\n",
              "      <th>RAM (MB)</th>\n",
              "      <td>0.600969</td>\n",
              "      <td>0.615097</td>\n",
              "      <td>1.000000</td>\n",
              "      <td>0.847864</td>\n",
              "      <td>0.661602</td>\n",
              "      <td>0.696881</td>\n",
              "      <td>-0.023896</td>\n",
              "      <td>0.613446</td>\n",
              "    </tr>\n",
              "    <tr>\n",
              "      <th>Internal storage (GB)</th>\n",
              "      <td>0.483489</td>\n",
              "      <td>0.481688</td>\n",
              "      <td>0.847864</td>\n",
              "      <td>1.000000</td>\n",
              "      <td>0.572591</td>\n",
              "      <td>0.613574</td>\n",
              "      <td>-0.015116</td>\n",
              "      <td>0.644079</td>\n",
              "    </tr>\n",
              "    <tr>\n",
              "      <th>Rear camera</th>\n",
              "      <td>0.499756</td>\n",
              "      <td>0.468668</td>\n",
              "      <td>0.661602</td>\n",
              "      <td>0.572591</td>\n",
              "      <td>1.000000</td>\n",
              "      <td>0.639652</td>\n",
              "      <td>-0.038466</td>\n",
              "      <td>0.379120</td>\n",
              "    </tr>\n",
              "    <tr>\n",
              "      <th>Front camera</th>\n",
              "      <td>0.540250</td>\n",
              "      <td>0.556287</td>\n",
              "      <td>0.696881</td>\n",
              "      <td>0.613574</td>\n",
              "      <td>0.639652</td>\n",
              "      <td>1.000000</td>\n",
              "      <td>0.054066</td>\n",
              "      <td>0.310672</td>\n",
              "    </tr>\n",
              "    <tr>\n",
              "      <th>Number of SIMs</th>\n",
              "      <td>0.040151</td>\n",
              "      <td>0.039891</td>\n",
              "      <td>-0.023896</td>\n",
              "      <td>-0.015116</td>\n",
              "      <td>-0.038466</td>\n",
              "      <td>0.054066</td>\n",
              "      <td>1.000000</td>\n",
              "      <td>-0.162491</td>\n",
              "    </tr>\n",
              "    <tr>\n",
              "      <th>Price</th>\n",
              "      <td>0.297525</td>\n",
              "      <td>0.302492</td>\n",
              "      <td>0.613446</td>\n",
              "      <td>0.644079</td>\n",
              "      <td>0.379120</td>\n",
              "      <td>0.310672</td>\n",
              "      <td>-0.162491</td>\n",
              "      <td>1.000000</td>\n",
              "    </tr>\n",
              "  </tbody>\n",
              "</table>\n",
              "</div>"
            ],
            "text/plain": [
              "                        Battery capacity (mAh)  Processor  RAM (MB)  \\\n",
              "Battery capacity (mAh)                1.000000   0.538017  0.600969   \n",
              "Processor                             0.538017   1.000000  0.615097   \n",
              "RAM (MB)                              0.600969   0.615097  1.000000   \n",
              "Internal storage (GB)                 0.483489   0.481688  0.847864   \n",
              "Rear camera                           0.499756   0.468668  0.661602   \n",
              "Front camera                          0.540250   0.556287  0.696881   \n",
              "Number of SIMs                        0.040151   0.039891 -0.023896   \n",
              "Price                                 0.297525   0.302492  0.613446   \n",
              "\n",
              "                        Internal storage (GB)  Rear camera  Front camera  \\\n",
              "Battery capacity (mAh)               0.483489     0.499756      0.540250   \n",
              "Processor                            0.481688     0.468668      0.556287   \n",
              "RAM (MB)                             0.847864     0.661602      0.696881   \n",
              "Internal storage (GB)                1.000000     0.572591      0.613574   \n",
              "Rear camera                          0.572591     1.000000      0.639652   \n",
              "Front camera                         0.613574     0.639652      1.000000   \n",
              "Number of SIMs                      -0.015116    -0.038466      0.054066   \n",
              "Price                                0.644079     0.379120      0.310672   \n",
              "\n",
              "                        Number of SIMs     Price  \n",
              "Battery capacity (mAh)        0.040151  0.297525  \n",
              "Processor                     0.039891  0.302492  \n",
              "RAM (MB)                     -0.023896  0.613446  \n",
              "Internal storage (GB)        -0.015116  0.644079  \n",
              "Rear camera                  -0.038466  0.379120  \n",
              "Front camera                  0.054066  0.310672  \n",
              "Number of SIMs                1.000000 -0.162491  \n",
              "Price                        -0.162491  1.000000  "
            ]
          },
          "execution_count": 11,
          "metadata": {},
          "output_type": "execute_result"
        }
      ],
      "source": [
        "num_df.corr()"
      ]
    },
    {
      "cell_type": "code",
      "execution_count": 12,
      "metadata": {
        "colab": {
          "base_uri": "https://localhost:8080/",
          "height": 600
        },
        "id": "fJjk1AJl8-MS",
        "outputId": "4341b8b1-ff01-4e65-c00a-45b71dd3c0a8"
      },
      "outputs": [
        {
          "data": {
            "text/plain": [
              "<Axes: >"
            ]
          },
          "execution_count": 12,
          "metadata": {},
          "output_type": "execute_result"
        },
        {
          "data": {
            "image/png": "[encoded data removed]",
            "text/plain": [
              "<Figure size 640x480 with 2 Axes>"
            ]
          },
          "metadata": {},
          "output_type": "display_data"
        }
      ],
      "source": [
        "# Heatmap for numerical data\n",
        "sns.heatmap(num_df.corr(),annot=True)"
      ]
    },
    {
      "cell_type": "code",
      "execution_count": 13,
      "metadata": {
        "colab": {
          "base_uri": "https://localhost:8080/",
          "height": 178
        },
        "id": "94GEX1DZ8Ren",
        "outputId": "958fea2b-9026-4767-c6de-144ff7ab4cfa"
      },
      "outputs": [
        {
          "data": {
            "text/plain": [
              "Touchscreen\n",
              "Yes    1342\n",
              "No       17\n",
              "Name: count, dtype: int64"
            ]
          },
          "execution_count": 13,
          "metadata": {},
          "output_type": "execute_result"
        }
      ],
      "source": [
        "df.Touchscreen.value_counts()"
      ]
    },
    {
      "cell_type": "code",
      "execution_count": 14,
      "metadata": {
        "colab": {
          "base_uri": "https://localhost:8080/",
          "height": 406
        },
        "id": "7nd5T8V_TZar",
        "outputId": "39a1c7f8-e0b9-48ef-869e-cfa5ec07e5d2"
      },
      "outputs": [
        {
          "data": {
            "image/png": "[encoded data removed]",
            "text/plain": [
              "<Figure size 640x480 with 1 Axes>"
            ]
          },
          "metadata": {},
          "output_type": "display_data"
        }
      ],
      "source": [
        "# PieChart for Users Using Touchscreen and Keypad\n",
        "plt.pie(df.Touchscreen.value_counts(),labels=['Smartphone', 'Keypad'],colors=['lightskyblue','red'],autopct='%.2f%%', shadow=True, startangle=140)\n",
        "plt.show()"
      ]
    },
    {
      "cell_type": "code",
      "execution_count": 15,
      "metadata": {
        "colab": {
          "base_uri": "https://localhost:8080/",
          "height": 489
        },
        "id": "0tat3p2aIkJ3",
        "outputId": "c52bd026-e287-4b11-eef0-32bc8a768fe4"
      },
      "outputs": [
        {
          "data": {
            "text/plain": [
              "Text(0.5, 1.0, 'Scatterplot between Processor and Ram')"
            ]
          },
          "execution_count": 15,
          "metadata": {},
          "output_type": "execute_result"
        },
        {
          "data": {
            "image/png": "[encoded data removed]",
            "text/plain": [
              "<Figure size 640x480 with 1 Axes>"
            ]
          },
          "metadata": {},
          "output_type": "display_data"
        }
      ],
      "source": [
        "# Scatter Plot between Processor and Ram\n",
        "sns.scatterplot(x='Processor', y='RAM (MB)',data=df)\n",
        "plt.title('Scatterplot between Processor and Ram')"
      ]
    },
    {
      "cell_type": "code",
      "execution_count": 16,
      "metadata": {
        "colab": {
          "base_uri": "https://localhost:8080/",
          "height": 469
        },
        "id": "Q56O2u97IYZh",
        "outputId": "5eadcda5-f8b9-414a-9e8e-68dca98381ae"
      },
      "outputs": [
        {
          "data": {
            "text/plain": [
              "Text(0.5, 1.0, 'Internal Storage (GB)')"
            ]
          },
          "execution_count": 16,
          "metadata": {},
          "output_type": "execute_result"
        },
        {
          "data": {
            "image/png": "[encoded data removed]",
            "text/plain": [
              "<Figure size 640x480 with 1 Axes>"
            ]
          },
          "metadata": {},
          "output_type": "display_data"
        }
      ],
      "source": [
        "# Histogram for Internal Storage\n",
        "plt.hist(df['Internal storage (GB)'],bins=20)\n",
        "plt.title('Internal Storage (GB)')"
      ]
    },
    {
      "cell_type": "code",
      "execution_count": 17,
      "metadata": {
        "colab": {
          "base_uri": "https://localhost:8080/",
          "height": 469
        },
        "id": "p_hJ7oLWIXbi",
        "outputId": "e8fbe6f1-60fe-4f50-cc10-0c5541952b42"
      },
      "outputs": [
        {
          "data": {
            "text/plain": [
              "<Axes: title={'center': 'RAM (MB)'}, ylabel='Frequency'>"
            ]
          },
          "execution_count": 17,
          "metadata": {},
          "output_type": "execute_result"
        },
        {
          "data": {
            "image/png": "[encoded data removed]",
            "text/plain": [
              "<Figure size 640x480 with 1 Axes>"
            ]
          },
          "metadata": {},
          "output_type": "display_data"
        }
      ],
      "source": [
        "# Histogram for Ram\n",
        "df['RAM (MB)'].plot(kind='hist', bins=20, title='RAM (MB)')"
      ]
    },
    {
      "cell_type": "code",
      "execution_count": 18,
      "metadata": {
        "colab": {
          "base_uri": "https://localhost:8080/",
          "height": 550
        },
        "id": "eA160ViUBxbH",
        "outputId": "36a3bb22-d6d0-4364-84a9-479ce8b11cbd"
      },
      "outputs": [
        {
          "data": {
            "text/plain": [
              "<Axes: title={'center': 'Operating System'}, xlabel='Operating system'>"
            ]
          },
          "execution_count": 18,
          "metadata": {},
          "output_type": "execute_result"
        },
        {
          "data": {
            "image/png": "[encoded data removed]",
            "text/plain": [
              "<Figure size 640x480 with 1 Axes>"
            ]
          },
          "metadata": {},
          "output_type": "display_data"
        }
      ],
      "source": [
        "# Bargraph for Operating System\n",
        "colors=sns.color_palette('bright')\n",
        "df['Operating system'].value_counts().plot(kind=\"bar\",color=colors,title='Operating System')"
      ]
    },
    {
      "cell_type": "code",
      "execution_count": 19,
      "metadata": {
        "colab": {
          "base_uri": "https://localhost:8080/",
          "height": 469
        },
        "id": "kbeMlvIpIWRu",
        "outputId": "5f5416d5-07da-47da-d7e5-4f9ab1e9d847"
      },
      "outputs": [
        {
          "data": {
            "text/plain": [
              "<Axes: title={'center': 'Processor'}, ylabel='Frequency'>"
            ]
          },
          "execution_count": 19,
          "metadata": {},
          "output_type": "execute_result"
        },
        {
          "data": {
            "image/png": "[encoded data removed]",
            "text/plain": [
              "<Figure size 640x480 with 1 Axes>"
            ]
          },
          "metadata": {},
          "output_type": "display_data"
        }
      ],
      "source": [
        "# Histogram for Processor\n",
        "df['Processor'].plot(kind='hist', bins=20, title='Processor')\n"
      ]
    },
    {
      "cell_type": "code",
      "execution_count": 20,
      "metadata": {
        "colab": {
          "base_uri": "https://localhost:8080/",
          "height": 472
        },
        "id": "-aT92teoABKO",
        "outputId": "e2083e8e-d663-419e-e9ce-242beeb80fad"
      },
      "outputs": [
        {
          "data": {
            "image/png": "[encoded data removed]",
            "text/plain": [
              "<Figure size 640x480 with 1 Axes>"
            ]
          },
          "metadata": {},
          "output_type": "display_data"
        }
      ],
      "source": [
        "sns.histplot(data=df, x='Battery capacity (mAh)', kde=True)\n",
        "plt.title('Battery Capacity Distribution')\n",
        "plt.show()\n"
      ]
    },
    {
      "cell_type": "code",
      "execution_count": 21,
      "metadata": {
        "colab": {
          "base_uri": "https://localhost:8080/",
          "height": 642
        },
        "id": "q_UBoV8KqopB",
        "outputId": "2cb74c06-0609-4c5c-d775-391b777893c6"
      },
      "outputs": [
        {
          "name": "stderr",
          "output_type": "stream",
          "text": [
            "C:\\Users\\Priyanshu Gupta\\AppData\\Local\\Temp\\ipykernel_11172\\2738584097.py:3: FutureWarning: \n",
            "\n",
            "Passing `palette` without assigning `hue` is deprecated and will be removed in v0.14.0. Assign the `x` variable to `hue` and set `legend=False` for the same effect.\n",
            "\n",
            "  sns.countplot(x='Brand',data=df,palette=\"Accent\")\n"
          ]
        },
        {
          "data": {
            "image/png": "[encoded data removed]",
            "text/plain": [
              "<Figure size 1000x500 with 1 Axes>"
            ]
          },
          "metadata": {},
          "output_type": "display_data"
        }
      ],
      "source": [
        "# Countplot for Brand\n",
        "plt.figure(figsize=(10,5))\n",
        "sns.countplot(x='Brand',data=df,palette=\"Accent\")\n",
        "plt.title(\"Numbers of Brand\")\n",
        "plt.xticks(rotation=90)\n",
        "plt.show()"
      ]
    },
    {
      "cell_type": "code",
      "execution_count": 22,
      "metadata": {
        "colab": {
          "base_uri": "https://localhost:8080/",
          "height": 429
        },
        "id": "44jUdS4YE-Wn",
        "outputId": "475818b3-24d6-47e4-da04-895d5600f72a"
      },
      "outputs": [
        {
          "data": {
            "text/plain": [
              "Brand\n",
              "Intex        117\n",
              "Samsung      101\n",
              "Micromax      71\n",
              "Lava          59\n",
              "Panasonic     55\n",
              "Vivo          52\n",
              "Xiaomi        47\n",
              "LG            42\n",
              "Lenovo        42\n",
              "Motorola      42\n",
              "Name: count, dtype: int64"
            ]
          },
          "execution_count": 22,
          "metadata": {},
          "output_type": "execute_result"
        }
      ],
      "source": [
        "# Top 10 Selling Smartphone according to Data\n",
        "df.Brand.value_counts()[0:10]"
      ]
    },
    {
      "cell_type": "code",
      "execution_count": 23,
      "metadata": {
        "colab": {
          "base_uri": "https://localhost:8080/",
          "height": 536
        },
        "id": "TR5KjODxGA4l",
        "outputId": "38d2de33-f176-454a-f801-4a7ac276e7b3"
      },
      "outputs": [
        {
          "name": "stderr",
          "output_type": "stream",
          "text": [
            "C:\\Users\\Priyanshu Gupta\\AppData\\Local\\Temp\\ipykernel_11172\\2679505821.py:1: FutureWarning: \n",
            "\n",
            "Passing `palette` without assigning `hue` is deprecated and will be removed in v0.14.0. Assign the `x` variable to `hue` and set `legend=False` for the same effect.\n",
            "\n",
            "  sns.boxplot(x=\"Operating system\",y='Battery capacity (mAh)',data=df,palette=\"Accent\")\n"
          ]
        },
        {
          "data": {
            "image/png": "[encoded data removed]",
            "text/plain": [
              "<Figure size 640x480 with 1 Axes>"
            ]
          },
          "metadata": {},
          "output_type": "display_data"
        }
      ],
      "source": [
        "sns.boxplot(x=\"Operating system\",y='Battery capacity (mAh)',data=df,palette=\"Accent\")\n",
        "plt.show()"
      ]
    },
    {
      "cell_type": "code",
      "execution_count": 24,
      "metadata": {
        "colab": {
          "base_uri": "https://localhost:8080/",
          "height": 1000
        },
        "id": "TbRd3JW5KSgS",
        "outputId": "93c1c5fd-12ac-4e48-8f77-aca99a7cbe37"
      },
      "outputs": [
        {
          "data": {
            "text/plain": [
              "Brand\n",
              "HP         88719.000000\n",
              "Razer      54990.000000\n",
              "Apple      45510.470588\n",
              "Cat        45219.750000\n",
              "Huawei     38564.750000\n",
              "               ...     \n",
              "Tambo       3595.000000\n",
              "Phicomm     3238.000000\n",
              "Philips     3199.000000\n",
              "Reach       2529.666667\n",
              "Jio         1249.000000\n",
              "Name: Price, Length: 76, dtype: float64"
            ]
          },
          "execution_count": 24,
          "metadata": {},
          "output_type": "execute_result"
        }
      ],
      "source": [
        "# The average selling price of each brand\n",
        "df.groupby('Brand')['Price'].mean().sort_values(ascending=False)"
      ]
    },
    {
      "cell_type": "markdown",
      "metadata": {
        "id": "qTKQ-F-0_aLB"
      },
      "source": [
        "## Spliting the dependent and independent variables"
      ]
    },
    {
      "cell_type": "code",
      "execution_count": 25,
      "metadata": {
        "colab": {
          "base_uri": "https://localhost:8080/",
          "height": 489
        },
        "id": "nd0LqRTPDs2z",
        "outputId": "96f43cb5-7e78-4231-884d-ff72311d397c"
      },
      "outputs": [
        {
          "data": {
            "text/html": [
              "<div>\n",
              "<style scoped>\n",
              "    .dataframe tbody tr th:only-of-type {\n",
              "        vertical-align: middle;\n",
              "    }\n",
              "\n",
              "    .dataframe tbody tr th {\n",
              "        vertical-align: top;\n",
              "    }\n",
              "\n",
              "    .dataframe thead th {\n",
              "        text-align: right;\n",
              "    }\n",
              "</style>\n",
              "<table border=\"1\" class=\"dataframe\">\n",
              "  <thead>\n",
              "    <tr style=\"text-align: right;\">\n",
              "      <th></th>\n",
              "      <th>Brand</th>\n",
              "      <th>Battery capacity (mAh)</th>\n",
              "      <th>Touchscreen</th>\n",
              "      <th>Processor</th>\n",
              "      <th>RAM (MB)</th>\n",
              "      <th>Internal storage (GB)</th>\n",
              "      <th>Rear camera</th>\n",
              "      <th>Front camera</th>\n",
              "      <th>Operating system</th>\n",
              "      <th>Wi-Fi</th>\n",
              "      <th>Bluetooth</th>\n",
              "      <th>GPS</th>\n",
              "      <th>Number of SIMs</th>\n",
              "      <th>3G</th>\n",
              "      <th>4G/ LTE</th>\n",
              "      <th>Price</th>\n",
              "    </tr>\n",
              "    <tr>\n",
              "      <th>Sr. No.</th>\n",
              "      <th></th>\n",
              "      <th></th>\n",
              "      <th></th>\n",
              "      <th></th>\n",
              "      <th></th>\n",
              "      <th></th>\n",
              "      <th></th>\n",
              "      <th></th>\n",
              "      <th></th>\n",
              "      <th></th>\n",
              "      <th></th>\n",
              "      <th></th>\n",
              "      <th></th>\n",
              "      <th></th>\n",
              "      <th></th>\n",
              "      <th></th>\n",
              "    </tr>\n",
              "  </thead>\n",
              "  <tbody>\n",
              "    <tr>\n",
              "      <th>0</th>\n",
              "      <td>OnePlus</td>\n",
              "      <td>4085</td>\n",
              "      <td>Yes</td>\n",
              "      <td>8</td>\n",
              "      <td>12000</td>\n",
              "      <td>256.000</td>\n",
              "      <td>48.0</td>\n",
              "      <td>16.0</td>\n",
              "      <td>Android</td>\n",
              "      <td>Yes</td>\n",
              "      <td>Yes</td>\n",
              "      <td>Yes</td>\n",
              "      <td>2</td>\n",
              "      <td>Yes</td>\n",
              "      <td>Yes</td>\n",
              "      <td>58998</td>\n",
              "    </tr>\n",
              "    <tr>\n",
              "      <th>1</th>\n",
              "      <td>Realme</td>\n",
              "      <td>4000</td>\n",
              "      <td>Yes</td>\n",
              "      <td>8</td>\n",
              "      <td>6000</td>\n",
              "      <td>64.000</td>\n",
              "      <td>64.0</td>\n",
              "      <td>16.0</td>\n",
              "      <td>Android</td>\n",
              "      <td>Yes</td>\n",
              "      <td>Yes</td>\n",
              "      <td>Yes</td>\n",
              "      <td>2</td>\n",
              "      <td>Yes</td>\n",
              "      <td>Yes</td>\n",
              "      <td>27999</td>\n",
              "    </tr>\n",
              "    <tr>\n",
              "      <th>2</th>\n",
              "      <td>Apple</td>\n",
              "      <td>3969</td>\n",
              "      <td>Yes</td>\n",
              "      <td>6</td>\n",
              "      <td>4000</td>\n",
              "      <td>64.000</td>\n",
              "      <td>12.0</td>\n",
              "      <td>12.0</td>\n",
              "      <td>iOS</td>\n",
              "      <td>Yes</td>\n",
              "      <td>Yes</td>\n",
              "      <td>Yes</td>\n",
              "      <td>2</td>\n",
              "      <td>Yes</td>\n",
              "      <td>Yes</td>\n",
              "      <td>106900</td>\n",
              "    </tr>\n",
              "    <tr>\n",
              "      <th>3</th>\n",
              "      <td>Apple</td>\n",
              "      <td>3110</td>\n",
              "      <td>Yes</td>\n",
              "      <td>6</td>\n",
              "      <td>4000</td>\n",
              "      <td>64.000</td>\n",
              "      <td>12.0</td>\n",
              "      <td>12.0</td>\n",
              "      <td>iOS</td>\n",
              "      <td>Yes</td>\n",
              "      <td>Yes</td>\n",
              "      <td>Yes</td>\n",
              "      <td>2</td>\n",
              "      <td>Yes</td>\n",
              "      <td>Yes</td>\n",
              "      <td>62900</td>\n",
              "    </tr>\n",
              "    <tr>\n",
              "      <th>4</th>\n",
              "      <td>LG</td>\n",
              "      <td>4000</td>\n",
              "      <td>Yes</td>\n",
              "      <td>8</td>\n",
              "      <td>6000</td>\n",
              "      <td>128.000</td>\n",
              "      <td>12.0</td>\n",
              "      <td>32.0</td>\n",
              "      <td>Android</td>\n",
              "      <td>Yes</td>\n",
              "      <td>Yes</td>\n",
              "      <td>Yes</td>\n",
              "      <td>1</td>\n",
              "      <td>No</td>\n",
              "      <td>No</td>\n",
              "      <td>49990</td>\n",
              "    </tr>\n",
              "    <tr>\n",
              "      <th>...</th>\n",
              "      <td>...</td>\n",
              "      <td>...</td>\n",
              "      <td>...</td>\n",
              "      <td>...</td>\n",
              "      <td>...</td>\n",
              "      <td>...</td>\n",
              "      <td>...</td>\n",
              "      <td>...</td>\n",
              "      <td>...</td>\n",
              "      <td>...</td>\n",
              "      <td>...</td>\n",
              "      <td>...</td>\n",
              "      <td>...</td>\n",
              "      <td>...</td>\n",
              "      <td>...</td>\n",
              "      <td>...</td>\n",
              "    </tr>\n",
              "    <tr>\n",
              "      <th>1354</th>\n",
              "      <td>Intex</td>\n",
              "      <td>1500</td>\n",
              "      <td>Yes</td>\n",
              "      <td>4</td>\n",
              "      <td>512</td>\n",
              "      <td>8.000</td>\n",
              "      <td>5.0</td>\n",
              "      <td>0.3</td>\n",
              "      <td>Android</td>\n",
              "      <td>Yes</td>\n",
              "      <td>Yes</td>\n",
              "      <td>Yes</td>\n",
              "      <td>2</td>\n",
              "      <td>Yes</td>\n",
              "      <td>No</td>\n",
              "      <td>2599</td>\n",
              "    </tr>\n",
              "    <tr>\n",
              "      <th>1355</th>\n",
              "      <td>Videocon</td>\n",
              "      <td>2000</td>\n",
              "      <td>Yes</td>\n",
              "      <td>4</td>\n",
              "      <td>1000</td>\n",
              "      <td>8.000</td>\n",
              "      <td>8.0</td>\n",
              "      <td>5.0</td>\n",
              "      <td>Android</td>\n",
              "      <td>Yes</td>\n",
              "      <td>Yes</td>\n",
              "      <td>Yes</td>\n",
              "      <td>2</td>\n",
              "      <td>Yes</td>\n",
              "      <td>No</td>\n",
              "      <td>2940</td>\n",
              "    </tr>\n",
              "    <tr>\n",
              "      <th>1356</th>\n",
              "      <td>Intex</td>\n",
              "      <td>1700</td>\n",
              "      <td>Yes</td>\n",
              "      <td>2</td>\n",
              "      <td>512</td>\n",
              "      <td>4.000</td>\n",
              "      <td>5.0</td>\n",
              "      <td>2.0</td>\n",
              "      <td>Android</td>\n",
              "      <td>Yes</td>\n",
              "      <td>Yes</td>\n",
              "      <td>No</td>\n",
              "      <td>2</td>\n",
              "      <td>Yes</td>\n",
              "      <td>No</td>\n",
              "      <td>2999</td>\n",
              "    </tr>\n",
              "    <tr>\n",
              "      <th>1357</th>\n",
              "      <td>iBall</td>\n",
              "      <td>1250</td>\n",
              "      <td>Yes</td>\n",
              "      <td>1</td>\n",
              "      <td>256</td>\n",
              "      <td>0.512</td>\n",
              "      <td>2.0</td>\n",
              "      <td>0.3</td>\n",
              "      <td>Android</td>\n",
              "      <td>Yes</td>\n",
              "      <td>Yes</td>\n",
              "      <td>Yes</td>\n",
              "      <td>2</td>\n",
              "      <td>Yes</td>\n",
              "      <td>No</td>\n",
              "      <td>2498</td>\n",
              "    </tr>\n",
              "    <tr>\n",
              "      <th>1358</th>\n",
              "      <td>iBall</td>\n",
              "      <td>2150</td>\n",
              "      <td>Yes</td>\n",
              "      <td>4</td>\n",
              "      <td>1000</td>\n",
              "      <td>8.000</td>\n",
              "      <td>8.0</td>\n",
              "      <td>0.0</td>\n",
              "      <td>Android</td>\n",
              "      <td>Yes</td>\n",
              "      <td>Yes</td>\n",
              "      <td>Yes</td>\n",
              "      <td>2</td>\n",
              "      <td>Yes</td>\n",
              "      <td>No</td>\n",
              "      <td>3999</td>\n",
              "    </tr>\n",
              "  </tbody>\n",
              "</table>\n",
              "<p>1359 rows × 16 columns</p>\n",
              "</div>"
            ],
            "text/plain": [
              "            Brand  Battery capacity (mAh) Touchscreen  Processor  RAM (MB)  \\\n",
              "Sr. No.                                                                      \n",
              "0         OnePlus                    4085         Yes          8     12000   \n",
              "1          Realme                    4000         Yes          8      6000   \n",
              "2           Apple                    3969         Yes          6      4000   \n",
              "3           Apple                    3110         Yes          6      4000   \n",
              "4              LG                    4000         Yes          8      6000   \n",
              "...           ...                     ...         ...        ...       ...   \n",
              "1354        Intex                    1500         Yes          4       512   \n",
              "1355     Videocon                    2000         Yes          4      1000   \n",
              "1356        Intex                    1700         Yes          2       512   \n",
              "1357        iBall                    1250         Yes          1       256   \n",
              "1358        iBall                    2150         Yes          4      1000   \n",
              "\n",
              "         Internal storage (GB)  Rear camera  Front camera Operating system  \\\n",
              "Sr. No.                                                                      \n",
              "0                      256.000         48.0          16.0          Android   \n",
              "1                       64.000         64.0          16.0          Android   \n",
              "2                       64.000         12.0          12.0              iOS   \n",
              "3                       64.000         12.0          12.0              iOS   \n",
              "4                      128.000         12.0          32.0          Android   \n",
              "...                        ...          ...           ...              ...   \n",
              "1354                     8.000          5.0           0.3          Android   \n",
              "1355                     8.000          8.0           5.0          Android   \n",
              "1356                     4.000          5.0           2.0          Android   \n",
              "1357                     0.512          2.0           0.3          Android   \n",
              "1358                     8.000          8.0           0.0          Android   \n",
              "\n",
              "        Wi-Fi Bluetooth  GPS  Number of SIMs   3G 4G/ LTE   Price  \n",
              "Sr. No.                                                            \n",
              "0         Yes       Yes  Yes               2  Yes     Yes   58998  \n",
              "1         Yes       Yes  Yes               2  Yes     Yes   27999  \n",
              "2         Yes       Yes  Yes               2  Yes     Yes  106900  \n",
              "3         Yes       Yes  Yes               2  Yes     Yes   62900  \n",
              "4         Yes       Yes  Yes               1   No      No   49990  \n",
              "...       ...       ...  ...             ...  ...     ...     ...  \n",
              "1354      Yes       Yes  Yes               2  Yes      No    2599  \n",
              "1355      Yes       Yes  Yes               2  Yes      No    2940  \n",
              "1356      Yes       Yes   No               2  Yes      No    2999  \n",
              "1357      Yes       Yes  Yes               2  Yes      No    2498  \n",
              "1358      Yes       Yes  Yes               2  Yes      No    3999  \n",
              "\n",
              "[1359 rows x 16 columns]"
            ]
          },
          "execution_count": 25,
          "metadata": {},
          "output_type": "execute_result"
        }
      ],
      "source": [
        "df1"
      ]
    },
    {
      "cell_type": "code",
      "execution_count": 26,
      "metadata": {
        "colab": {
          "base_uri": "https://localhost:8080/",
          "height": 1000
        },
        "id": "dlFXn7-uDta7",
        "outputId": "058aaf61-19d3-4b9d-bf28-7c1d81b8fe95"
      },
      "outputs": [
        {
          "name": "stdout",
          "output_type": "stream",
          "text": [
            "                                  0         1                       2     3   \\\n",
            "0     OnePlus 7T Pro McLaren Edition   OnePlus  7T Pro McLaren Edition  6.67   \n",
            "1                      Realme X2 Pro    Realme                  X2 Pro   6.5   \n",
            "2                  iPhone 11 Pro Max     Apple       iPhone 11 Pro Max   6.5   \n",
            "3                          iPhone 11     Apple               iPhone 11   6.1   \n",
            "4                       LG G8X ThinQ        LG               G8X ThinQ   6.4   \n",
            "...                              ...       ...                     ...   ...   \n",
            "1354                   Intex Aqua A2     Intex                 Aqua A2   4.0   \n",
            "1355     Videocon Infinium Z51 Nova+  Videocon      Infinium Z51 Nova+   5.0   \n",
            "1356                   Intex Aqua Y4     Intex                 Aqua Y4   4.5   \n",
            "1357                 iBall Andi4 B20     iBall               Andi4 B20   4.0   \n",
            "1358             iBall Andi Avonte 5     iBall           Andi Avonte 5   5.0   \n",
            "\n",
            "       4     5     6  7      8      9     10    11       12   13   14   15 16  \\\n",
            "0     Yes  1440  3120  8  12000  256.0  48.0  16.0  Android  Yes  Yes  Yes  2   \n",
            "1     Yes  1080  2400  8   6000   64.0  64.0  16.0  Android  Yes  Yes  Yes  2   \n",
            "2     Yes  1242  2688  6   4000   64.0  12.0  12.0      iOS  Yes  Yes  Yes  2   \n",
            "3     Yes   828  1792  6   4000   64.0  12.0  12.0      iOS  Yes  Yes  Yes  2   \n",
            "4     Yes  1080  2340  8   6000  128.0  12.0  32.0  Android  Yes  Yes  Yes  1   \n",
            "...   ...   ...   ... ..    ...    ...   ...   ...      ...  ...  ...  ... ..   \n",
            "1354  Yes   480   800  4    512    8.0   5.0   0.3  Android  Yes  Yes  Yes  2   \n",
            "1355  Yes   480   854  4   1000    8.0   8.0   5.0  Android  Yes  Yes  Yes  2   \n",
            "1356  Yes   480   854  2    512    4.0   5.0   2.0  Android  Yes  Yes   No  2   \n",
            "1357  Yes   480   800  1    256  0.512   2.0   0.3  Android  Yes  Yes  Yes  2   \n",
            "1358  Yes   480   854  4   1000    8.0   8.0   0.0  Android  Yes  Yes  Yes  2   \n",
            "\n",
            "       17   18  \n",
            "0     Yes  Yes  \n",
            "1     Yes  Yes  \n",
            "2     Yes  Yes  \n",
            "3     Yes  Yes  \n",
            "4      No   No  \n",
            "...   ...  ...  \n",
            "1354  Yes   No  \n",
            "1355  Yes   No  \n",
            "1356  Yes   No  \n",
            "1357  Yes   No  \n",
            "1358  Yes   No  \n",
            "\n",
            "[1359 rows x 19 columns]\n"
          ]
        },
        {
          "data": {
            "text/html": [
              "<div>\n",
              "<style scoped>\n",
              "    .dataframe tbody tr th:only-of-type {\n",
              "        vertical-align: middle;\n",
              "    }\n",
              "\n",
              "    .dataframe tbody tr th {\n",
              "        vertical-align: top;\n",
              "    }\n",
              "\n",
              "    .dataframe thead th {\n",
              "        text-align: right;\n",
              "    }\n",
              "</style>\n",
              "<table border=\"1\" class=\"dataframe\">\n",
              "  <thead>\n",
              "    <tr style=\"text-align: right;\">\n",
              "      <th></th>\n",
              "      <th>0</th>\n",
              "    </tr>\n",
              "  </thead>\n",
              "  <tbody>\n",
              "    <tr>\n",
              "      <th>0</th>\n",
              "      <td>58998</td>\n",
              "    </tr>\n",
              "    <tr>\n",
              "      <th>1</th>\n",
              "      <td>27999</td>\n",
              "    </tr>\n",
              "    <tr>\n",
              "      <th>2</th>\n",
              "      <td>106900</td>\n",
              "    </tr>\n",
              "    <tr>\n",
              "      <th>3</th>\n",
              "      <td>62900</td>\n",
              "    </tr>\n",
              "    <tr>\n",
              "      <th>4</th>\n",
              "      <td>49990</td>\n",
              "    </tr>\n",
              "    <tr>\n",
              "      <th>...</th>\n",
              "      <td>...</td>\n",
              "    </tr>\n",
              "    <tr>\n",
              "      <th>1354</th>\n",
              "      <td>2599</td>\n",
              "    </tr>\n",
              "    <tr>\n",
              "      <th>1355</th>\n",
              "      <td>2940</td>\n",
              "    </tr>\n",
              "    <tr>\n",
              "      <th>1356</th>\n",
              "      <td>2999</td>\n",
              "    </tr>\n",
              "    <tr>\n",
              "      <th>1357</th>\n",
              "      <td>2498</td>\n",
              "    </tr>\n",
              "    <tr>\n",
              "      <th>1358</th>\n",
              "      <td>3999</td>\n",
              "    </tr>\n",
              "  </tbody>\n",
              "</table>\n",
              "<p>1359 rows × 1 columns</p>\n",
              "</div>"
            ],
            "text/plain": [
              "           0\n",
              "0      58998\n",
              "1      27999\n",
              "2     106900\n",
              "3      62900\n",
              "4      49990\n",
              "...      ...\n",
              "1354    2599\n",
              "1355    2940\n",
              "1356    2999\n",
              "1357    2498\n",
              "1358    3999\n",
              "\n",
              "[1359 rows x 1 columns]"
            ]
          },
          "execution_count": 26,
          "metadata": {},
          "output_type": "execute_result"
        }
      ],
      "source": [
        "# Specify the target variable and predictor(s)\n",
        "x= df.drop(columns=['Battery capacity (mAh)','Price']).values # Independent or predictors variables\n",
        "y=df.Price.values  # Dependent or target variable\n",
        "print(pd.DataFrame(x))\n",
        "pd.DataFrame(y)"
      ]
    },
    {
      "cell_type": "code",
      "execution_count": 27,
      "metadata": {
        "colab": {
          "base_uri": "https://localhost:8080/",
          "height": 423
        },
        "id": "EzKpwfwUD9Db",
        "outputId": "9da2689c-9c0a-471b-bbcb-8669a8022914"
      },
      "outputs": [
        {
          "data": {
            "text/html": [
              "<div>\n",
              "<style scoped>\n",
              "    .dataframe tbody tr th:only-of-type {\n",
              "        vertical-align: middle;\n",
              "    }\n",
              "\n",
              "    .dataframe tbody tr th {\n",
              "        vertical-align: top;\n",
              "    }\n",
              "\n",
              "    .dataframe thead th {\n",
              "        text-align: right;\n",
              "    }\n",
              "</style>\n",
              "<table border=\"1\" class=\"dataframe\">\n",
              "  <thead>\n",
              "    <tr style=\"text-align: right;\">\n",
              "      <th></th>\n",
              "      <th>0</th>\n",
              "      <th>1</th>\n",
              "      <th>2</th>\n",
              "      <th>3</th>\n",
              "      <th>4</th>\n",
              "      <th>5</th>\n",
              "      <th>6</th>\n",
              "      <th>7</th>\n",
              "      <th>8</th>\n",
              "      <th>9</th>\n",
              "      <th>...</th>\n",
              "      <th>2774</th>\n",
              "      <th>2775</th>\n",
              "      <th>2776</th>\n",
              "      <th>2777</th>\n",
              "      <th>2778</th>\n",
              "      <th>2779</th>\n",
              "      <th>2780</th>\n",
              "      <th>2781</th>\n",
              "      <th>2782</th>\n",
              "      <th>2783</th>\n",
              "    </tr>\n",
              "  </thead>\n",
              "  <tbody>\n",
              "    <tr>\n",
              "      <th>0</th>\n",
              "      <td>0.0</td>\n",
              "      <td>0.0</td>\n",
              "      <td>0.0</td>\n",
              "      <td>0.0</td>\n",
              "      <td>0.0</td>\n",
              "      <td>0.0</td>\n",
              "      <td>0.0</td>\n",
              "      <td>0.0</td>\n",
              "      <td>0.0</td>\n",
              "      <td>0.0</td>\n",
              "      <td>...</td>\n",
              "      <td>1.0</td>\n",
              "      <td>6.67</td>\n",
              "      <td>1440</td>\n",
              "      <td>3120</td>\n",
              "      <td>8</td>\n",
              "      <td>12000</td>\n",
              "      <td>256.0</td>\n",
              "      <td>48.0</td>\n",
              "      <td>16.0</td>\n",
              "      <td>2</td>\n",
              "    </tr>\n",
              "    <tr>\n",
              "      <th>1</th>\n",
              "      <td>0.0</td>\n",
              "      <td>0.0</td>\n",
              "      <td>0.0</td>\n",
              "      <td>0.0</td>\n",
              "      <td>0.0</td>\n",
              "      <td>0.0</td>\n",
              "      <td>0.0</td>\n",
              "      <td>0.0</td>\n",
              "      <td>0.0</td>\n",
              "      <td>0.0</td>\n",
              "      <td>...</td>\n",
              "      <td>1.0</td>\n",
              "      <td>6.5</td>\n",
              "      <td>1080</td>\n",
              "      <td>2400</td>\n",
              "      <td>8</td>\n",
              "      <td>6000</td>\n",
              "      <td>64.0</td>\n",
              "      <td>64.0</td>\n",
              "      <td>16.0</td>\n",
              "      <td>2</td>\n",
              "    </tr>\n",
              "    <tr>\n",
              "      <th>2</th>\n",
              "      <td>0.0</td>\n",
              "      <td>0.0</td>\n",
              "      <td>0.0</td>\n",
              "      <td>0.0</td>\n",
              "      <td>0.0</td>\n",
              "      <td>0.0</td>\n",
              "      <td>0.0</td>\n",
              "      <td>0.0</td>\n",
              "      <td>0.0</td>\n",
              "      <td>0.0</td>\n",
              "      <td>...</td>\n",
              "      <td>1.0</td>\n",
              "      <td>6.5</td>\n",
              "      <td>1242</td>\n",
              "      <td>2688</td>\n",
              "      <td>6</td>\n",
              "      <td>4000</td>\n",
              "      <td>64.0</td>\n",
              "      <td>12.0</td>\n",
              "      <td>12.0</td>\n",
              "      <td>2</td>\n",
              "    </tr>\n",
              "    <tr>\n",
              "      <th>3</th>\n",
              "      <td>0.0</td>\n",
              "      <td>0.0</td>\n",
              "      <td>0.0</td>\n",
              "      <td>0.0</td>\n",
              "      <td>0.0</td>\n",
              "      <td>0.0</td>\n",
              "      <td>0.0</td>\n",
              "      <td>0.0</td>\n",
              "      <td>0.0</td>\n",
              "      <td>0.0</td>\n",
              "      <td>...</td>\n",
              "      <td>1.0</td>\n",
              "      <td>6.1</td>\n",
              "      <td>828</td>\n",
              "      <td>1792</td>\n",
              "      <td>6</td>\n",
              "      <td>4000</td>\n",
              "      <td>64.0</td>\n",
              "      <td>12.0</td>\n",
              "      <td>12.0</td>\n",
              "      <td>2</td>\n",
              "    </tr>\n",
              "    <tr>\n",
              "      <th>4</th>\n",
              "      <td>0.0</td>\n",
              "      <td>0.0</td>\n",
              "      <td>0.0</td>\n",
              "      <td>0.0</td>\n",
              "      <td>0.0</td>\n",
              "      <td>0.0</td>\n",
              "      <td>0.0</td>\n",
              "      <td>0.0</td>\n",
              "      <td>0.0</td>\n",
              "      <td>0.0</td>\n",
              "      <td>...</td>\n",
              "      <td>0.0</td>\n",
              "      <td>6.4</td>\n",
              "      <td>1080</td>\n",
              "      <td>2340</td>\n",
              "      <td>8</td>\n",
              "      <td>6000</td>\n",
              "      <td>128.0</td>\n",
              "      <td>12.0</td>\n",
              "      <td>32.0</td>\n",
              "      <td>1</td>\n",
              "    </tr>\n",
              "    <tr>\n",
              "      <th>...</th>\n",
              "      <td>...</td>\n",
              "      <td>...</td>\n",
              "      <td>...</td>\n",
              "      <td>...</td>\n",
              "      <td>...</td>\n",
              "      <td>...</td>\n",
              "      <td>...</td>\n",
              "      <td>...</td>\n",
              "      <td>...</td>\n",
              "      <td>...</td>\n",
              "      <td>...</td>\n",
              "      <td>...</td>\n",
              "      <td>...</td>\n",
              "      <td>...</td>\n",
              "      <td>...</td>\n",
              "      <td>...</td>\n",
              "      <td>...</td>\n",
              "      <td>...</td>\n",
              "      <td>...</td>\n",
              "      <td>...</td>\n",
              "      <td>...</td>\n",
              "    </tr>\n",
              "    <tr>\n",
              "      <th>1354</th>\n",
              "      <td>0.0</td>\n",
              "      <td>0.0</td>\n",
              "      <td>0.0</td>\n",
              "      <td>0.0</td>\n",
              "      <td>0.0</td>\n",
              "      <td>0.0</td>\n",
              "      <td>0.0</td>\n",
              "      <td>0.0</td>\n",
              "      <td>0.0</td>\n",
              "      <td>0.0</td>\n",
              "      <td>...</td>\n",
              "      <td>0.0</td>\n",
              "      <td>4.0</td>\n",
              "      <td>480</td>\n",
              "      <td>800</td>\n",
              "      <td>4</td>\n",
              "      <td>512</td>\n",
              "      <td>8.0</td>\n",
              "      <td>5.0</td>\n",
              "      <td>0.3</td>\n",
              "      <td>2</td>\n",
              "    </tr>\n",
              "    <tr>\n",
              "      <th>1355</th>\n",
              "      <td>0.0</td>\n",
              "      <td>0.0</td>\n",
              "      <td>0.0</td>\n",
              "      <td>0.0</td>\n",
              "      <td>0.0</td>\n",
              "      <td>0.0</td>\n",
              "      <td>0.0</td>\n",
              "      <td>0.0</td>\n",
              "      <td>0.0</td>\n",
              "      <td>0.0</td>\n",
              "      <td>...</td>\n",
              "      <td>0.0</td>\n",
              "      <td>5.0</td>\n",
              "      <td>480</td>\n",
              "      <td>854</td>\n",
              "      <td>4</td>\n",
              "      <td>1000</td>\n",
              "      <td>8.0</td>\n",
              "      <td>8.0</td>\n",
              "      <td>5.0</td>\n",
              "      <td>2</td>\n",
              "    </tr>\n",
              "    <tr>\n",
              "      <th>1356</th>\n",
              "      <td>0.0</td>\n",
              "      <td>0.0</td>\n",
              "      <td>0.0</td>\n",
              "      <td>0.0</td>\n",
              "      <td>0.0</td>\n",
              "      <td>0.0</td>\n",
              "      <td>0.0</td>\n",
              "      <td>0.0</td>\n",
              "      <td>0.0</td>\n",
              "      <td>0.0</td>\n",
              "      <td>...</td>\n",
              "      <td>0.0</td>\n",
              "      <td>4.5</td>\n",
              "      <td>480</td>\n",
              "      <td>854</td>\n",
              "      <td>2</td>\n",
              "      <td>512</td>\n",
              "      <td>4.0</td>\n",
              "      <td>5.0</td>\n",
              "      <td>2.0</td>\n",
              "      <td>2</td>\n",
              "    </tr>\n",
              "    <tr>\n",
              "      <th>1357</th>\n",
              "      <td>0.0</td>\n",
              "      <td>0.0</td>\n",
              "      <td>0.0</td>\n",
              "      <td>0.0</td>\n",
              "      <td>0.0</td>\n",
              "      <td>0.0</td>\n",
              "      <td>0.0</td>\n",
              "      <td>0.0</td>\n",
              "      <td>0.0</td>\n",
              "      <td>0.0</td>\n",
              "      <td>...</td>\n",
              "      <td>0.0</td>\n",
              "      <td>4.0</td>\n",
              "      <td>480</td>\n",
              "      <td>800</td>\n",
              "      <td>1</td>\n",
              "      <td>256</td>\n",
              "      <td>0.512</td>\n",
              "      <td>2.0</td>\n",
              "      <td>0.3</td>\n",
              "      <td>2</td>\n",
              "    </tr>\n",
              "    <tr>\n",
              "      <th>1358</th>\n",
              "      <td>0.0</td>\n",
              "      <td>0.0</td>\n",
              "      <td>0.0</td>\n",
              "      <td>0.0</td>\n",
              "      <td>0.0</td>\n",
              "      <td>0.0</td>\n",
              "      <td>0.0</td>\n",
              "      <td>0.0</td>\n",
              "      <td>0.0</td>\n",
              "      <td>0.0</td>\n",
              "      <td>...</td>\n",
              "      <td>0.0</td>\n",
              "      <td>5.0</td>\n",
              "      <td>480</td>\n",
              "      <td>854</td>\n",
              "      <td>4</td>\n",
              "      <td>1000</td>\n",
              "      <td>8.0</td>\n",
              "      <td>8.0</td>\n",
              "      <td>0.0</td>\n",
              "      <td>2</td>\n",
              "    </tr>\n",
              "  </tbody>\n",
              "</table>\n",
              "<p>1359 rows × 2784 columns</p>\n",
              "</div>"
            ],
            "text/plain": [
              "     0    1    2    3    4    5    6    7    8    9     ... 2774  2775  2776  \\\n",
              "0     0.0  0.0  0.0  0.0  0.0  0.0  0.0  0.0  0.0  0.0  ...  1.0  6.67  1440   \n",
              "1     0.0  0.0  0.0  0.0  0.0  0.0  0.0  0.0  0.0  0.0  ...  1.0   6.5  1080   \n",
              "2     0.0  0.0  0.0  0.0  0.0  0.0  0.0  0.0  0.0  0.0  ...  1.0   6.5  1242   \n",
              "3     0.0  0.0  0.0  0.0  0.0  0.0  0.0  0.0  0.0  0.0  ...  1.0   6.1   828   \n",
              "4     0.0  0.0  0.0  0.0  0.0  0.0  0.0  0.0  0.0  0.0  ...  0.0   6.4  1080   \n",
              "...   ...  ...  ...  ...  ...  ...  ...  ...  ...  ...  ...  ...   ...   ...   \n",
              "1354  0.0  0.0  0.0  0.0  0.0  0.0  0.0  0.0  0.0  0.0  ...  0.0   4.0   480   \n",
              "1355  0.0  0.0  0.0  0.0  0.0  0.0  0.0  0.0  0.0  0.0  ...  0.0   5.0   480   \n",
              "1356  0.0  0.0  0.0  0.0  0.0  0.0  0.0  0.0  0.0  0.0  ...  0.0   4.5   480   \n",
              "1357  0.0  0.0  0.0  0.0  0.0  0.0  0.0  0.0  0.0  0.0  ...  0.0   4.0   480   \n",
              "1358  0.0  0.0  0.0  0.0  0.0  0.0  0.0  0.0  0.0  0.0  ...  0.0   5.0   480   \n",
              "\n",
              "      2777 2778   2779   2780  2781  2782 2783  \n",
              "0     3120    8  12000  256.0  48.0  16.0    2  \n",
              "1     2400    8   6000   64.0  64.0  16.0    2  \n",
              "2     2688    6   4000   64.0  12.0  12.0    2  \n",
              "3     1792    6   4000   64.0  12.0  12.0    2  \n",
              "4     2340    8   6000  128.0  12.0  32.0    1  \n",
              "...    ...  ...    ...    ...   ...   ...  ...  \n",
              "1354   800    4    512    8.0   5.0   0.3    2  \n",
              "1355   854    4   1000    8.0   8.0   5.0    2  \n",
              "1356   854    2    512    4.0   5.0   2.0    2  \n",
              "1357   800    1    256  0.512   2.0   0.3    2  \n",
              "1358   854    4   1000    8.0   8.0   0.0    2  \n",
              "\n",
              "[1359 rows x 2784 columns]"
            ]
          },
          "execution_count": 27,
          "metadata": {},
          "output_type": "execute_result"
        }
      ],
      "source": [
        "from sklearn.compose import ColumnTransformer\n",
        "from sklearn.preprocessing import OneHotEncoder\n",
        "ct=ColumnTransformer(transformers=[('encoder',OneHotEncoder(sparse_output=False),[0,1,2,4,12,13,14,15,17,18])],remainder='passthrough')\n",
        "\n",
        "x=np.array(ct.fit_transform(x))\n",
        "pd.DataFrame(x)"
      ]
    },
    {
      "cell_type": "code",
      "execution_count": 28,
      "metadata": {
        "id": "_tNifllwEehN"
      },
      "outputs": [],
      "source": [
        "#spliting the Dataset\n",
        "from sklearn.model_selection import train_test_split\n",
        "x_train,x_test,y_train,y_test=train_test_split(x,y,test_size=0.2,random_state=4)"
      ]
    },
    {
      "cell_type": "code",
      "execution_count": 29,
      "metadata": {
        "colab": {
          "base_uri": "https://localhost:8080/"
        },
        "id": "hxEhWsJNX3ZW",
        "outputId": "9557055e-eb3a-449e-cbe7-03e501cf1ad6"
      },
      "outputs": [
        {
          "data": {
            "text/plain": [
              "(array([[0.0, 0.0, 0.0, ..., 13.0, 8.0, 2],\n",
              "        [0.0, 0.0, 0.0, ..., 8.0, 5.0, 2],\n",
              "        [0.0, 0.0, 0.0, ..., 13.2, 5.0, 2],\n",
              "        ...,\n",
              "        [0.0, 0.0, 0.0, ..., 13.0, 2.1, 1],\n",
              "        [0.0, 0.0, 0.0, ..., 13.0, 8.0, 2],\n",
              "        [0.0, 0.0, 0.0, ..., 13.0, 8.0, 2]], dtype=object),\n",
              " array([[0.0, 0.0, 0.0, ..., 13.0, 16.0, 2],\n",
              "        [0.0, 0.0, 0.0, ..., 12.0, 8.0, 2],\n",
              "        [0.0, 0.0, 0.0, ..., 13.0, 8.0, 1],\n",
              "        ...,\n",
              "        [0.0, 0.0, 0.0, ..., 8.0, 3.2, 2],\n",
              "        [0.0, 0.0, 0.0, ..., 13.0, 5.0, 2],\n",
              "        [0.0, 0.0, 0.0, ..., 13.0, 8.0, 2]], dtype=object))"
            ]
          },
          "execution_count": 29,
          "metadata": {},
          "output_type": "execute_result"
        }
      ],
      "source": [
        "x_train,x_test"
      ]
    },
    {
      "cell_type": "code",
      "execution_count": 30,
      "metadata": {
        "colab": {
          "base_uri": "https://localhost:8080/"
        },
        "id": "5hRdC8PdX7qQ",
        "outputId": "9792b2d1-d3a3-4d17-b8ef-7a92189ca367"
      },
      "outputs": [
        {
          "data": {
            "text/plain": [
              "(array([ 6999,  4970,  3990, ..., 42021, 11499,  4999], dtype=int64),\n",
              " array([ 6319,  7332,  7450,  5900,  3999,  3599, 13895,  5990,  2199,\n",
              "         4790, 39995,  4200,  4999,  7499,  6449,  7040,  5499,  2499,\n",
              "         5499,  5899,  2984,  8500,  6600,  3899,  7499,  8999,  6800,\n",
              "        15999, 13690,  4790,  7490,  3499,  4690,  3539, 16999,  2999,\n",
              "         5300,  3799,  4999, 10450,  5935,  4829,  8490,  5990,  5499,\n",
              "         8999, 15995,  4999, 12900,  2359,  3199,  7999,  5199,  5899,\n",
              "        34930,  4490, 13999,  2999,  6999,  8990,  2699,  5999, 39999,\n",
              "         4488,  4970,  4610,  5990,  1999,  4880,  7999, 11999,  3099,\n",
              "         3450,  6999,  6999,  6999,  6499,  3949, 14999,  5999, 19990,\n",
              "        34999,  5999,  8891,  2499, 13990,  6990, 25999,  5999,  4599,\n",
              "         4295, 10999,  9999,  6999,  2190,  3299,  3990,  3999,  4790,\n",
              "         5935, 23990,  5850,  4499,  9990,  2499,  7499, 23990,  8499,\n",
              "         6999,  3579,  3399,  3590,  3890,  5000,  4690, 29990, 18000,\n",
              "        12994,  4649, 27390,  4600,  3490,  8999, 13500, 35990, 69999,\n",
              "        23999, 11900,  4150, 66999,  8990,  4999, 13999, 29999,  8999,\n",
              "        28499,  8999, 16999, 11845,  5490,  5599,  5000,  6629,  4299,\n",
              "         4999,  6999,  7499,  2900, 21999, 12000, 14933,  7000,  3299,\n",
              "         7980,  6700,  5999,  3999, 10999,  6498,  3999,  4990,  9960,\n",
              "        13299, 34990,  5999,  3799,  6998,  9980,  6506,  3499,  4989,\n",
              "         3500,  3800, 18138,  8899, 15999,  5999,  5410, 12722,  8875,\n",
              "         5499, 26220,  6499, 14994, 44990,  4240, 29999,  4899,  7999,\n",
              "        17979,  3699,  2950,  6000,  4559,  4991,  6399,  8666,  7299,\n",
              "         4990,  3690, 13667,  8000, 27999,  5440, 15900,  2590, 29999,\n",
              "        33500, 23999, 10499,  7500,  3499, 19990,  6499,  6899,  4150,\n",
              "         6666,  3199,  4598,  7990,  3999, 16999,  4999,  4999,  5900,\n",
              "         3990,  5399,  7500,  7999, 27900,  8500,  4800,  4999,  5200,\n",
              "         4799,  2999,  7999, 44999, 14980, 19994,  3499,  9960,  4978,\n",
              "         9500, 29999,  8999, 11200,  2000, 17490,  4333, 14999,  5990,\n",
              "         7199,  8226,  5199,  2399, 13999,  6499, 12000, 14999,  4500,\n",
              "         4890,  9999,  7999,  4655,  3690, 49999,  9999, 29950,  3279,\n",
              "         8490, 13300], dtype=int64))"
            ]
          },
          "execution_count": 30,
          "metadata": {},
          "output_type": "execute_result"
        }
      ],
      "source": [
        "y_train,y_test"
      ]
    },
    {
      "cell_type": "code",
      "execution_count": 31,
      "metadata": {
        "id": "HxAthJ7HYAUo"
      },
      "outputs": [],
      "source": [
        "# Standard Scaling\n",
        "\n",
        "from sklearn.preprocessing import StandardScaler\n",
        "stm=StandardScaler()\n",
        "x_train=stm.fit_transform(x_train)\n",
        "x_test=stm.transform(x_test)"
      ]
    },
    {
      "cell_type": "code",
      "execution_count": 32,
      "metadata": {
        "id": "no9-I-hsYDzZ"
      },
      "outputs": [],
      "source": [
        "from sklearn.linear_model import LinearRegression"
      ]
    },
    {
      "cell_type": "code",
      "execution_count": 33,
      "metadata": {
        "id": "tRoWTBK0YGQJ"
      },
      "outputs": [],
      "source": [
        "reg=LinearRegression()"
      ]
    },
    {
      "cell_type": "code",
      "execution_count": 34,
      "metadata": {
        "colab": {
          "base_uri": "https://localhost:8080/",
          "height": 74
        },
        "id": "8af49w9lYIkF",
        "outputId": "3a7d06ef-6324-433c-b89c-f3391e13e037"
      },
      "outputs": [
        {
          "data": {
            "text/html": [
              "<style>#sk-container-id-1 {\n",
              "  /* Definition of color scheme common for light and dark mode */\n",
              "  --sklearn-color-text: black;\n",
              "  --sklearn-color-line: gray;\n",
              "  /* Definition of color scheme for unfitted estimators */\n",
              "  --sklearn-color-unfitted-level-0: #fff5e6;\n",
              "  --sklearn-color-unfitted-level-1: #f6e4d2;\n",
              "  --sklearn-color-unfitted-level-2: #ffe0b3;\n",
              "  --sklearn-color-unfitted-level-3: chocolate;\n",
              "  /* Definition of color scheme for fitted estimators */\n",
              "  --sklearn-color-fitted-level-0: #f0f8ff;\n",
              "  --sklearn-color-fitted-level-1: #d4ebff;\n",
              "  --sklearn-color-fitted-level-2: #b3dbfd;\n",
              "  --sklearn-color-fitted-level-3: cornflowerblue;\n",
              "\n",
              "  /* Specific color for light theme */\n",
              "  --sklearn-color-text-on-default-background: var(--sg-text-color, var(--theme-code-foreground, var(--jp-content-font-color1, black)));\n",
              "  --sklearn-color-background: var(--sg-background-color, var(--theme-background, var(--jp-layout-color0, white)));\n",
              "  --sklearn-color-border-box: var(--sg-text-color, var(--theme-code-foreground, var(--jp-content-font-color1, black)));\n",
              "  --sklearn-color-icon: #696969;\n",
              "\n",
              "  @media (prefers-color-scheme: dark) {\n",
              "    /* Redefinition of color scheme for dark theme */\n",
              "    --sklearn-color-text-on-default-background: var(--sg-text-color, var(--theme-code-foreground, var(--jp-content-font-color1, white)));\n",
              "    --sklearn-color-background: var(--sg-background-color, var(--theme-background, var(--jp-layout-color0, #111)));\n",
              "    --sklearn-color-border-box: var(--sg-text-color, var(--theme-code-foreground, var(--jp-content-font-color1, white)));\n",
              "    --sklearn-color-icon: #878787;\n",
              "  }\n",
              "}\n",
              "\n",
              "#sk-container-id-1 {\n",
              "  color: var(--sklearn-color-text);\n",
              "}\n",
              "\n",
              "#sk-container-id-1 pre {\n",
              "  padding: 0;\n",
              "}\n",
              "\n",
              "#sk-container-id-1 input.sk-hidden--visually {\n",
              "  border: 0;\n",
              "  clip: rect(1px 1px 1px 1px);\n",
              "  clip: rect(1px, 1px, 1px, 1px);\n",
              "  height: 1px;\n",
              "  margin: -1px;\n",
              "  overflow: hidden;\n",
              "  padding: 0;\n",
              "  position: absolute;\n",
              "  width: 1px;\n",
              "}\n",
              "\n",
              "#sk-container-id-1 div.sk-dashed-wrapped {\n",
              "  border: 1px dashed var(--sklearn-color-line);\n",
              "  margin: 0 0.4em 0.5em 0.4em;\n",
              "  box-sizing: border-box;\n",
              "  padding-bottom: 0.4em;\n",
              "  background-color: var(--sklearn-color-background);\n",
              "}\n",
              "\n",
              "#sk-container-id-1 div.sk-container {\n",
              "  /* jupyter's `normalize.less` sets `[hidden] { display: none; }`\n",
              "     but bootstrap.min.css set `[hidden] { display: none !important; }`\n",
              "     so we also need the `!important` here to be able to override the\n",
              "     default hidden behavior on the sphinx rendered scikit-learn.org.\n",
              "     See: https://github.com/scikit-learn/scikit-learn/issues/21755 */\n",
              "  display: inline-block !important;\n",
              "  position: relative;\n",
              "}\n",
              "\n",
              "#sk-container-id-1 div.sk-text-repr-fallback {\n",
              "  display: none;\n",
              "}\n",
              "\n",
              "div.sk-parallel-item,\n",
              "div.sk-serial,\n",
              "div.sk-item {\n",
              "  /* draw centered vertical line to link estimators */\n",
              "  background-image: linear-gradient(var(--sklearn-color-text-on-default-background), var(--sklearn-color-text-on-default-background));\n",
              "  background-size: 2px 100%;\n",
              "  background-repeat: no-repeat;\n",
              "  background-position: center center;\n",
              "}\n",
              "\n",
              "/* Parallel-specific style estimator block */\n",
              "\n",
              "#sk-container-id-1 div.sk-parallel-item::after {\n",
              "  content: \"\";\n",
              "  width: 100%;\n",
              "  border-bottom: 2px solid var(--sklearn-color-text-on-default-background);\n",
              "  flex-grow: 1;\n",
              "}\n",
              "\n",
              "#sk-container-id-1 div.sk-parallel {\n",
              "  display: flex;\n",
              "  align-items: stretch;\n",
              "  justify-content: center;\n",
              "  background-color: var(--sklearn-color-background);\n",
              "  position: relative;\n",
              "}\n",
              "\n",
              "#sk-container-id-1 div.sk-parallel-item {\n",
              "  display: flex;\n",
              "  flex-direction: column;\n",
              "}\n",
              "\n",
              "#sk-container-id-1 div.sk-parallel-item:first-child::after {\n",
              "  align-self: flex-end;\n",
              "  width: 50%;\n",
              "}\n",
              "\n",
              "#sk-container-id-1 div.sk-parallel-item:last-child::after {\n",
              "  align-self: flex-start;\n",
              "  width: 50%;\n",
              "}\n",
              "\n",
              "#sk-container-id-1 div.sk-parallel-item:only-child::after {\n",
              "  width: 0;\n",
              "}\n",
              "\n",
              "/* Serial-specific style estimator block */\n",
              "\n",
              "#sk-container-id-1 div.sk-serial {\n",
              "  display: flex;\n",
              "  flex-direction: column;\n",
              "  align-items: center;\n",
              "  background-color: var(--sklearn-color-background);\n",
              "  padding-right: 1em;\n",
              "  padding-left: 1em;\n",
              "}\n",
              "\n",
              "\n",
              "/* Toggleable style: style used for estimator/Pipeline/ColumnTransformer box that is\n",
              "clickable and can be expanded/collapsed.\n",
              "- Pipeline and ColumnTransformer use this feature and define the default style\n",
              "- Estimators will overwrite some part of the style using the `sk-estimator` class\n",
              "*/\n",
              "\n",
              "/* Pipeline and ColumnTransformer style (default) */\n",
              "\n",
              "#sk-container-id-1 div.sk-toggleable {\n",
              "  /* Default theme specific background. It is overwritten whether we have a\n",
              "  specific estimator or a Pipeline/ColumnTransformer */\n",
              "  background-color: var(--sklearn-color-background);\n",
              "}\n",
              "\n",
              "/* Toggleable label */\n",
              "#sk-container-id-1 label.sk-toggleable__label {\n",
              "  cursor: pointer;\n",
              "  display: block;\n",
              "  width: 100%;\n",
              "  margin-bottom: 0;\n",
              "  padding: 0.5em;\n",
              "  box-sizing: border-box;\n",
              "  text-align: center;\n",
              "}\n",
              "\n",
              "#sk-container-id-1 label.sk-toggleable__label-arrow:before {\n",
              "  /* Arrow on the left of the label */\n",
              "  content: \"▸\";\n",
              "  float: left;\n",
              "  margin-right: 0.25em;\n",
              "  color: var(--sklearn-color-icon);\n",
              "}\n",
              "\n",
              "#sk-container-id-1 label.sk-toggleable__label-arrow:hover:before {\n",
              "  color: var(--sklearn-color-text);\n",
              "}\n",
              "\n",
              "/* Toggleable content - dropdown */\n",
              "\n",
              "#sk-container-id-1 div.sk-toggleable__content {\n",
              "  max-height: 0;\n",
              "  max-width: 0;\n",
              "  overflow: hidden;\n",
              "  text-align: left;\n",
              "  /* unfitted */\n",
              "  background-color: var(--sklearn-color-unfitted-level-0);\n",
              "}\n",
              "\n",
              "#sk-container-id-1 div.sk-toggleable__content.fitted {\n",
              "  /* fitted */\n",
              "  background-color: var(--sklearn-color-fitted-level-0);\n",
              "}\n",
              "\n",
              "#sk-container-id-1 div.sk-toggleable__content pre {\n",
              "  margin: 0.2em;\n",
              "  border-radius: 0.25em;\n",
              "  color: var(--sklearn-color-text);\n",
              "  /* unfitted */\n",
              "  background-color: var(--sklearn-color-unfitted-level-0);\n",
              "}\n",
              "\n",
              "#sk-container-id-1 div.sk-toggleable__content.fitted pre {\n",
              "  /* unfitted */\n",
              "  background-color: var(--sklearn-color-fitted-level-0);\n",
              "}\n",
              "\n",
              "#sk-container-id-1 input.sk-toggleable__control:checked~div.sk-toggleable__content {\n",
              "  /* Expand drop-down */\n",
              "  max-height: 200px;\n",
              "  max-width: 100%;\n",
              "  overflow: auto;\n",
              "}\n",
              "\n",
              "#sk-container-id-1 input.sk-toggleable__control:checked~label.sk-toggleable__label-arrow:before {\n",
              "  content: \"▾\";\n",
              "}\n",
              "\n",
              "/* Pipeline/ColumnTransformer-specific style */\n",
              "\n",
              "#sk-container-id-1 div.sk-label input.sk-toggleable__control:checked~label.sk-toggleable__label {\n",
              "  color: var(--sklearn-color-text);\n",
              "  background-color: var(--sklearn-color-unfitted-level-2);\n",
              "}\n",
              "\n",
              "#sk-container-id-1 div.sk-label.fitted input.sk-toggleable__control:checked~label.sk-toggleable__label {\n",
              "  background-color: var(--sklearn-color-fitted-level-2);\n",
              "}\n",
              "\n",
              "/* Estimator-specific style */\n",
              "\n",
              "/* Colorize estimator box */\n",
              "#sk-container-id-1 div.sk-estimator input.sk-toggleable__control:checked~label.sk-toggleable__label {\n",
              "  /* unfitted */\n",
              "  background-color: var(--sklearn-color-unfitted-level-2);\n",
              "}\n",
              "\n",
              "#sk-container-id-1 div.sk-estimator.fitted input.sk-toggleable__control:checked~label.sk-toggleable__label {\n",
              "  /* fitted */\n",
              "  background-color: var(--sklearn-color-fitted-level-2);\n",
              "}\n",
              "\n",
              "#sk-container-id-1 div.sk-label label.sk-toggleable__label,\n",
              "#sk-container-id-1 div.sk-label label {\n",
              "  /* The background is the default theme color */\n",
              "  color: var(--sklearn-color-text-on-default-background);\n",
              "}\n",
              "\n",
              "/* On hover, darken the color of the background */\n",
              "#sk-container-id-1 div.sk-label:hover label.sk-toggleable__label {\n",
              "  color: var(--sklearn-color-text);\n",
              "  background-color: var(--sklearn-color-unfitted-level-2);\n",
              "}\n",
              "\n",
              "/* Label box, darken color on hover, fitted */\n",
              "#sk-container-id-1 div.sk-label.fitted:hover label.sk-toggleable__label.fitted {\n",
              "  color: var(--sklearn-color-text);\n",
              "  background-color: var(--sklearn-color-fitted-level-2);\n",
              "}\n",
              "\n",
              "/* Estimator label */\n",
              "\n",
              "#sk-container-id-1 div.sk-label label {\n",
              "  font-family: monospace;\n",
              "  font-weight: bold;\n",
              "  display: inline-block;\n",
              "  line-height: 1.2em;\n",
              "}\n",
              "\n",
              "#sk-container-id-1 div.sk-label-container {\n",
              "  text-align: center;\n",
              "}\n",
              "\n",
              "/* Estimator-specific */\n",
              "#sk-container-id-1 div.sk-estimator {\n",
              "  font-family: monospace;\n",
              "  border: 1px dotted var(--sklearn-color-border-box);\n",
              "  border-radius: 0.25em;\n",
              "  box-sizing: border-box;\n",
              "  margin-bottom: 0.5em;\n",
              "  /* unfitted */\n",
              "  background-color: var(--sklearn-color-unfitted-level-0);\n",
              "}\n",
              "\n",
              "#sk-container-id-1 div.sk-estimator.fitted {\n",
              "  /* fitted */\n",
              "  background-color: var(--sklearn-color-fitted-level-0);\n",
              "}\n",
              "\n",
              "/* on hover */\n",
              "#sk-container-id-1 div.sk-estimator:hover {\n",
              "  /* unfitted */\n",
              "  background-color: var(--sklearn-color-unfitted-level-2);\n",
              "}\n",
              "\n",
              "#sk-container-id-1 div.sk-estimator.fitted:hover {\n",
              "  /* fitted */\n",
              "  background-color: var(--sklearn-color-fitted-level-2);\n",
              "}\n",
              "\n",
              "/* Specification for estimator info (e.g. \"i\" and \"?\") */\n",
              "\n",
              "/* Common style for \"i\" and \"?\" */\n",
              "\n",
              ".sk-estimator-doc-link,\n",
              "a:link.sk-estimator-doc-link,\n",
              "a:visited.sk-estimator-doc-link {\n",
              "  float: right;\n",
              "  font-size: smaller;\n",
              "  line-height: 1em;\n",
              "  font-family: monospace;\n",
              "  background-color: var(--sklearn-color-background);\n",
              "  border-radius: 1em;\n",
              "  height: 1em;\n",
              "  width: 1em;\n",
              "  text-decoration: none !important;\n",
              "  margin-left: 1ex;\n",
              "  /* unfitted */\n",
              "  border: var(--sklearn-color-unfitted-level-1) 1pt solid;\n",
              "  color: var(--sklearn-color-unfitted-level-1);\n",
              "}\n",
              "\n",
              ".sk-estimator-doc-link.fitted,\n",
              "a:link.sk-estimator-doc-link.fitted,\n",
              "a:visited.sk-estimator-doc-link.fitted {\n",
              "  /* fitted */\n",
              "  border: var(--sklearn-color-fitted-level-1) 1pt solid;\n",
              "  color: var(--sklearn-color-fitted-level-1);\n",
              "}\n",
              "\n",
              "/* On hover */\n",
              "div.sk-estimator:hover .sk-estimator-doc-link:hover,\n",
              ".sk-estimator-doc-link:hover,\n",
              "div.sk-label-container:hover .sk-estimator-doc-link:hover,\n",
              ".sk-estimator-doc-link:hover {\n",
              "  /* unfitted */\n",
              "  background-color: var(--sklearn-color-unfitted-level-3);\n",
              "  color: var(--sklearn-color-background);\n",
              "  text-decoration: none;\n",
              "}\n",
              "\n",
              "div.sk-estimator.fitted:hover .sk-estimator-doc-link.fitted:hover,\n",
              ".sk-estimator-doc-link.fitted:hover,\n",
              "div.sk-label-container:hover .sk-estimator-doc-link.fitted:hover,\n",
              ".sk-estimator-doc-link.fitted:hover {\n",
              "  /* fitted */\n",
              "  background-color: var(--sklearn-color-fitted-level-3);\n",
              "  color: var(--sklearn-color-background);\n",
              "  text-decoration: none;\n",
              "}\n",
              "\n",
              "/* Span, style for the box shown on hovering the info icon */\n",
              ".sk-estimator-doc-link span {\n",
              "  display: none;\n",
              "  z-index: 9999;\n",
              "  position: relative;\n",
              "  font-weight: normal;\n",
              "  right: .2ex;\n",
              "  padding: .5ex;\n",
              "  margin: .5ex;\n",
              "  width: min-content;\n",
              "  min-width: 20ex;\n",
              "  max-width: 50ex;\n",
              "  color: var(--sklearn-color-text);\n",
              "  box-shadow: 2pt 2pt 4pt #999;\n",
              "  /* unfitted */\n",
              "  background: var(--sklearn-color-unfitted-level-0);\n",
              "  border: .5pt solid var(--sklearn-color-unfitted-level-3);\n",
              "}\n",
              "\n",
              ".sk-estimator-doc-link.fitted span {\n",
              "  /* fitted */\n",
              "  background: var(--sklearn-color-fitted-level-0);\n",
              "  border: var(--sklearn-color-fitted-level-3);\n",
              "}\n",
              "\n",
              ".sk-estimator-doc-link:hover span {\n",
              "  display: block;\n",
              "}\n",
              "\n",
              "/* \"?\"-specific style due to the `<a>` HTML tag */\n",
              "\n",
              "#sk-container-id-1 a.estimator_doc_link {\n",
              "  float: right;\n",
              "  font-size: 1rem;\n",
              "  line-height: 1em;\n",
              "  font-family: monospace;\n",
              "  background-color: var(--sklearn-color-background);\n",
              "  border-radius: 1rem;\n",
              "  height: 1rem;\n",
              "  width: 1rem;\n",
              "  text-decoration: none;\n",
              "  /* unfitted */\n",
              "  color: var(--sklearn-color-unfitted-level-1);\n",
              "  border: var(--sklearn-color-unfitted-level-1) 1pt solid;\n",
              "}\n",
              "\n",
              "#sk-container-id-1 a.estimator_doc_link.fitted {\n",
              "  /* fitted */\n",
              "  border: var(--sklearn-color-fitted-level-1) 1pt solid;\n",
              "  color: var(--sklearn-color-fitted-level-1);\n",
              "}\n",
              "\n",
              "/* On hover */\n",
              "#sk-container-id-1 a.estimator_doc_link:hover {\n",
              "  /* unfitted */\n",
              "  background-color: var(--sklearn-color-unfitted-level-3);\n",
              "  color: var(--sklearn-color-background);\n",
              "  text-decoration: none;\n",
              "}\n",
              "\n",
              "#sk-container-id-1 a.estimator_doc_link.fitted:hover {\n",
              "  /* fitted */\n",
              "  background-color: var(--sklearn-color-fitted-level-3);\n",
              "}\n",
              "</style><div id=\"sk-container-id-1\" class=\"sk-top-container\"><div class=\"sk-text-repr-fallback\"><pre>LinearRegression()</pre><b>In a Jupyter environment, please rerun this cell to show the HTML representation or trust the notebook. <br />On GitHub, the HTML representation is unable to render, please try loading this page with nbviewer.org.</b></div><div class=\"sk-container\" hidden><div class=\"sk-item\"><div class=\"sk-estimator fitted sk-toggleable\"><input class=\"sk-toggleable__control sk-hidden--visually\" id=\"sk-estimator-id-1\" type=\"checkbox\" checked><label for=\"sk-estimator-id-1\" class=\"sk-toggleable__label fitted sk-toggleable__label-arrow fitted\">&nbsp;&nbsp;LinearRegression<a class=\"sk-estimator-doc-link fitted\" rel=\"noreferrer\" target=\"_blank\" href=\"https://scikit-learn.org/1.5/modules/generated/sklearn.linear_model.LinearRegression.html\">?<span>Documentation for LinearRegression</span></a><span class=\"sk-estimator-doc-link fitted\">i<span>Fitted</span></span></label><div class=\"sk-toggleable__content fitted\"><pre>LinearRegression()</pre></div> </div></div></div></div>"
            ],
            "text/plain": [
              "LinearRegression()"
            ]
          },
          "execution_count": 34,
          "metadata": {},
          "output_type": "execute_result"
        }
      ],
      "source": [
        "reg.fit(x_train,y_train)"
      ]
    },
    {
      "cell_type": "code",
      "execution_count": 35,
      "metadata": {
        "colab": {
          "base_uri": "https://localhost:8080/"
        },
        "id": "bDoVczC9YLp5",
        "outputId": "a627d0b0-0a1c-4212-e973-c0a67d1d5341"
      },
      "outputs": [
        {
          "data": {
            "text/plain": [
              "array([12356.93198351, 10063.26272532, 11299.35789712,  7387.18185885,\n",
              "        4699.37767965,  3881.21309364,  8624.9812636 ,  6986.26960054,\n",
              "        2713.65199038,  5776.00086459, 31442.70131245,  5683.18227293,\n",
              "        8397.05759331,  7079.53243992,  9010.87878094, 11084.55768031,\n",
              "        5119.13144856,  3783.77788426,  4431.35055006,  9213.57236934,\n",
              "        3067.40953295, 10410.89099653,  5663.7905853 ,  7469.78974536,\n",
              "        8701.87981468, 14931.44784822, 12535.96469223, 27116.21627835,\n",
              "       23280.32354535,  8547.77014363,  5054.60639427,  6418.05811518,\n",
              "        4641.07305609, 10777.34010874, 17081.99957818,  4265.20457994,\n",
              "        7480.15858391,  6136.82315315,  9675.28483772, 10489.10817333,\n",
              "        9739.39961025,  8194.28910637,  6823.43577985,  9290.79060064,\n",
              "        9287.11243   , 13996.01119892, 16468.16356609,  8389.54109467,\n",
              "       17051.79422123,  2943.9431018 ,  6872.47091037, 14139.69325798,\n",
              "        4491.552661  , 10177.82335364, 29078.67927734,  5139.41714133,\n",
              "       19276.08206626,  5015.94186204,  7535.94149341, 12102.66584577,\n",
              "        7105.56120205, 20628.0071528 , 21413.97308755,  9796.39077595,\n",
              "        6882.02047094,  8452.29335183,  8794.96739324,  4645.45136669,\n",
              "        5212.04662625,  9105.6786274 , 14855.25903816,  6983.05865853,\n",
              "        5368.40022526,  7067.42628855, 11519.19313209, 11135.42052972,\n",
              "       12681.09801401,  3681.84669132, 22062.81501351,  9543.3559646 ,\n",
              "       25260.96752262, 20692.37139185, 11710.39061469, 10227.25592211,\n",
              "        4210.00154639, 17068.60798226,  9359.19089481, 17500.55922077,\n",
              "        7901.27136507,  9688.55440442,  6956.87295833, 11237.36073733,\n",
              "       10728.94388493, 13908.92137455,  3081.24256638,  6727.11958037,\n",
              "        7218.62133349,  6803.53224623,  7295.40849171, 10395.15737228,\n",
              "       19076.30371379, 13041.29304479,  8908.8572077 , 15734.64586327,\n",
              "        3883.08422773,  5650.25001211, 20023.46906582, 15356.48843728,\n",
              "        9594.38524115,  3589.32606089,  7010.02115019,  4152.74792443,\n",
              "        5197.75146225,  7307.0905205 ,  4796.54038602, 20988.77807854,\n",
              "       17341.6086704 , 29021.53248342,  9196.57861977, 10799.03169429,\n",
              "        3248.14175728,  6901.38207449, 14593.37932696,  7484.5609493 ,\n",
              "       20258.02087792, 36432.00612025, 20445.93664359, 16746.4581532 ,\n",
              "        9664.54700988, 30849.79591172, 13208.97050059,  8576.67821933,\n",
              "       17105.02312716, 16888.31981915, 17035.62622163, 22712.00589958,\n",
              "        8617.6277833 , 13689.44834079, 16215.46627159, 14166.68871666,\n",
              "        9973.80745209,  6945.13996247,  8245.2075326 ,  7473.18987915,\n",
              "       11053.03821865, 11696.65587683, 15235.93586178,  6922.59214024,\n",
              "       18084.9910292 , 12254.9890279 , 14601.63297861,  6911.74599923,\n",
              "        6974.1375237 ,  8264.55449716,  5683.87084754, 10192.44607754,\n",
              "       11907.65390013, 12503.35852741,  9086.58557641,  5194.43285264,\n",
              "        7699.80458342, 14360.68400212, 18957.96948819, 17938.79941387,\n",
              "        9243.53718457,  4665.93088365,  7157.21590035, 14647.20417235,\n",
              "        6366.70350422,  4804.13841846,  9562.37773563,  4446.10361598,\n",
              "        5169.65633763, 12484.74708542, 17627.94590856, 17845.00785995,\n",
              "        6746.54074733,  9219.68403276, 15391.97439488, 16468.29327324,\n",
              "        9314.67685098, 26451.02036985,  7082.0774748 , 21782.25330518,\n",
              "       25344.33022178,  7821.88503769, 29467.17986204,  8445.82601522,\n",
              "        6561.72662076, 14484.41642857,  4907.44359628,  7501.55441441,\n",
              "       12568.51891031,  8576.67821933, 11044.57483626,  8561.54736033,\n",
              "        9677.39820654, 16688.15859646, 15477.40513624,  4914.78325344,\n",
              "        8605.45102309, 14381.14051442, 22778.11980367,  9115.00191803,\n",
              "       20646.25809782,  4113.79809101, 22530.22014198, 31349.60241261,\n",
              "       30144.8165857 , 16203.79370396,  9417.70475754,  4833.02381234,\n",
              "       20825.76699137, 10878.76418461,  9413.4964917 ,  4944.09118176,\n",
              "        8970.62027418,  4509.41595604,  8125.39338364, 13568.83580771,\n",
              "        4505.95399144, 21789.68186385, 14086.48126197,  4611.73255213,\n",
              "       13521.94706964,  4570.43539702,  8911.11496659,  7165.22769678,\n",
              "        8595.37792923, 20804.18009903, 13834.22958692, 11394.22308365,\n",
              "        6774.27067187,  7739.05479901, 11127.89528241,  6688.78415805,\n",
              "       21442.56126572, 28861.51569105, 10513.56509336, 15966.76171378,\n",
              "        4039.65414916, 12180.48714549,  8266.81908851, 10980.50051166,\n",
              "       25450.08405887, 12065.98520166, 16468.49913448,  1659.70917168,\n",
              "       11113.18858414,  7218.37400871, 22059.37152004,  8856.60446775,\n",
              "        8230.6872474 ,  9111.43088497,  7540.87674302,  4167.81890134,\n",
              "       13508.61002523, 18058.79284124, 13478.20976603, 10806.20282239,\n",
              "       12979.23572633,  5298.20535842,  6529.79677704, 11940.48485511,\n",
              "       10563.19768851,  8159.79923119, 25528.9704008 , 12241.1033526 ,\n",
              "       21363.95733583,  7267.51445027,  9357.35870152,  8956.39772006])"
            ]
          },
          "execution_count": 35,
          "metadata": {},
          "output_type": "execute_result"
        }
      ],
      "source": [
        "y_pred=reg.predict(x_test)\n",
        "y_pred"
      ]
    },
    {
      "cell_type": "code",
      "execution_count": 36,
      "metadata": {
        "id": "Ike3XcuuYPJs"
      },
      "outputs": [],
      "source": [
        "from sklearn import metrics"
      ]
    },
    {
      "cell_type": "code",
      "execution_count": 37,
      "metadata": {
        "colab": {
          "base_uri": "https://localhost:8080/"
        },
        "id": "MZtdIoLu0_CQ",
        "outputId": "3d0b3667-e8fb-46f6-9a8b-80e8107aca1a"
      },
      "outputs": [
        {
          "data": {
            "text/plain": [
              "4208.208320641667"
            ]
          },
          "execution_count": 37,
          "metadata": {},
          "output_type": "execute_result"
        }
      ],
      "source": [
        "metrics.mean_absolute_error(y_pred,y_test)"
      ]
    },
    {
      "cell_type": "code",
      "execution_count": 38,
      "metadata": {
        "colab": {
          "base_uri": "https://localhost:8080/"
        },
        "id": "-Rbt1OECYT1x",
        "outputId": "42cf816a-2d0c-4181-ecc4-5e8051e6659c"
      },
      "outputs": [
        {
          "data": {
            "text/plain": [
              "38222040.8011316"
            ]
          },
          "execution_count": 38,
          "metadata": {},
          "output_type": "execute_result"
        }
      ],
      "source": [
        "metrics.mean_squared_error(y_test,y_pred)"
      ]
    },
    {
      "cell_type": "code",
      "execution_count": 39,
      "metadata": {
        "colab": {
          "base_uri": "https://localhost:8080/"
        },
        "id": "4GWAEJ-4YWvU",
        "outputId": "fd706721-6030-4477-c25e-fd0faba481cc"
      },
      "outputs": [
        {
          "data": {
            "text/plain": [
              "0.6102273241408303"
            ]
          },
          "execution_count": 39,
          "metadata": {},
          "output_type": "execute_result"
        }
      ],
      "source": [
        "metrics.r2_score(y_test,y_pred)"
      ]
    },
    {
      "cell_type": "code",
      "execution_count": 40,
      "metadata": {
        "id": "QyvU1MGmYanT"
      },
      "outputs": [],
      "source": [
        "import joblib\n",
        "y_prediction=[]\n",
        "for i in range(x_test.shape[0]):\n",
        "    check_data=x_test[i,0:]\n",
        "    joblib.dump(reg,'Linear_regression_model.pkl')\n",
        "    new_data=check_data.reshape(1,-1)\n",
        "    model=joblib.load('Linear_regression_model.pkl')\n",
        "    prediction=model.predict(new_data)\n",
        "    y_prediction.append(prediction)"
      ]
    },
    {
      "cell_type": "code",
      "execution_count": 41,
      "metadata": {
        "id": "zzwWe16LYd00"
      },
      "outputs": [],
      "source": [
        "y_actual=[]\n",
        "for i in range(y_test.shape[0]):\n",
        "    y_actual.append(y_test[i])"
      ]
    },
    {
      "cell_type": "code",
      "execution_count": 42,
      "metadata": {
        "id": "jXwA6QfRYhP-"
      },
      "outputs": [],
      "source": [
        "A=pd.Series(y_actual)\n",
        "B=pd.Series(y_prediction)"
      ]
    },
    {
      "cell_type": "code",
      "execution_count": 43,
      "metadata": {
        "colab": {
          "base_uri": "https://localhost:8080/",
          "height": 423
        },
        "id": "zq7BcIDMYlvl",
        "outputId": "0e143003-22af-40f5-d596-9bd1ead210e1"
      },
      "outputs": [
        {
          "data": {
            "text/html": [
              "<div>\n",
              "<style scoped>\n",
              "    .dataframe tbody tr th:only-of-type {\n",
              "        vertical-align: middle;\n",
              "    }\n",
              "\n",
              "    .dataframe tbody tr th {\n",
              "        vertical-align: top;\n",
              "    }\n",
              "\n",
              "    .dataframe thead th {\n",
              "        text-align: right;\n",
              "    }\n",
              "</style>\n",
              "<table border=\"1\" class=\"dataframe\">\n",
              "  <thead>\n",
              "    <tr style=\"text-align: right;\">\n",
              "      <th></th>\n",
              "      <th>Actual_Values</th>\n",
              "      <th>Predicted_Values</th>\n",
              "    </tr>\n",
              "  </thead>\n",
              "  <tbody>\n",
              "    <tr>\n",
              "      <th>0</th>\n",
              "      <td>6319</td>\n",
              "      <td>[12356.931983511804]</td>\n",
              "    </tr>\n",
              "    <tr>\n",
              "      <th>1</th>\n",
              "      <td>7332</td>\n",
              "      <td>[10063.262725320119]</td>\n",
              "    </tr>\n",
              "    <tr>\n",
              "      <th>2</th>\n",
              "      <td>7450</td>\n",
              "      <td>[11299.357897116926]</td>\n",
              "    </tr>\n",
              "    <tr>\n",
              "      <th>3</th>\n",
              "      <td>5900</td>\n",
              "      <td>[7387.181858845719]</td>\n",
              "    </tr>\n",
              "    <tr>\n",
              "      <th>4</th>\n",
              "      <td>3999</td>\n",
              "      <td>[4699.377679646773]</td>\n",
              "    </tr>\n",
              "    <tr>\n",
              "      <th>...</th>\n",
              "      <td>...</td>\n",
              "      <td>...</td>\n",
              "    </tr>\n",
              "    <tr>\n",
              "      <th>267</th>\n",
              "      <td>9999</td>\n",
              "      <td>[12241.103352595017]</td>\n",
              "    </tr>\n",
              "    <tr>\n",
              "      <th>268</th>\n",
              "      <td>29950</td>\n",
              "      <td>[21363.957335832372]</td>\n",
              "    </tr>\n",
              "    <tr>\n",
              "      <th>269</th>\n",
              "      <td>3279</td>\n",
              "      <td>[7267.514450274477]</td>\n",
              "    </tr>\n",
              "    <tr>\n",
              "      <th>270</th>\n",
              "      <td>8490</td>\n",
              "      <td>[9357.358701522528]</td>\n",
              "    </tr>\n",
              "    <tr>\n",
              "      <th>271</th>\n",
              "      <td>13300</td>\n",
              "      <td>[8956.397720061557]</td>\n",
              "    </tr>\n",
              "  </tbody>\n",
              "</table>\n",
              "<p>272 rows × 2 columns</p>\n",
              "</div>"
            ],
            "text/plain": [
              "     Actual_Values      Predicted_Values\n",
              "0             6319  [12356.931983511804]\n",
              "1             7332  [10063.262725320119]\n",
              "2             7450  [11299.357897116926]\n",
              "3             5900   [7387.181858845719]\n",
              "4             3999   [4699.377679646773]\n",
              "..             ...                   ...\n",
              "267           9999  [12241.103352595017]\n",
              "268          29950  [21363.957335832372]\n",
              "269           3279   [7267.514450274477]\n",
              "270           8490   [9357.358701522528]\n",
              "271          13300   [8956.397720061557]\n",
              "\n",
              "[272 rows x 2 columns]"
            ]
          },
          "execution_count": 43,
          "metadata": {},
          "output_type": "execute_result"
        }
      ],
      "source": [
        "pd.concat([A,B],axis=1).rename(columns={0:'Actual_Values',1:'Predicted_Values'})"
      ]
    },
    {
      "cell_type": "markdown",
      "metadata": {
        "id": "oYHbt4UmWl7L"
      },
      "source": [
        "## KNN Algorithm"
      ]
    },
    {
      "cell_type": "code",
      "execution_count": 44,
      "metadata": {
        "colab": {
          "base_uri": "https://localhost:8080/"
        },
        "id": "JuKeqlsNhIR1",
        "outputId": "ea3d3b20-f5bc-4d6a-d984-ebc6625910b8"
      },
      "outputs": [
        {
          "name": "stdout",
          "output_type": "stream",
          "text": [
            "RMSE: 7239.19252640233\n",
            "MAE: 3442.490360559235\n",
            "R-squared: 0.7268945611109539\n"
          ]
        },
        {
          "name": "stderr",
          "output_type": "stream",
          "text": [
            "C:\\Users\\Priyanshu Gupta\\AppData\\Roaming\\Python\\Python312\\site-packages\\sklearn\\metrics\\_regression.py:492: FutureWarning: 'squared' is deprecated in version 1.4 and will be removed in 1.6. To calculate the root mean squared error, use the function'root_mean_squared_error'.\n",
            "  warnings.warn(\n"
          ]
        }
      ],
      "source": [
        "import pandas as pd\n",
        "from sklearn.preprocessing import StandardScaler, OneHotEncoder\n",
        "from sklearn.compose import ColumnTransformer\n",
        "from sklearn.pipeline import Pipeline\n",
        "from sklearn.neighbors import KNeighborsRegressor\n",
        "from sklearn.metrics import mean_squared_error, mean_absolute_error, r2_score\n",
        "# Separate target variable and features\n",
        "X = df.drop(columns=['Price'])\n",
        "\n",
        "y = df['Price']\n",
        "\n",
        "Ct = ColumnTransformer(transformers=[\n",
        "        ('num', StandardScaler(), [\"Screen size (inches)\",\"Resolution x\",\"Resolution y\",\"Processor\",\"RAM (MB)\",\"Internal storage (GB)\",\"Rear camera\",\"Front camera\",\"Number of SIMs\"]),\n",
        "        ('cat', OneHotEncoder(handle_unknown='ignore'), [\"Name\",\"Brand\",\"Model\",\"Touchscreen\",\"Operating system\",\"Wi-Fi\",\"Bluetooth\",\"GPS\",\"3G\",\"4G/ LTE\"])\n",
        "    ])\n",
        "\n",
        "# Apply the transformations\n",
        "X_preprocessed = Ct.fit_transform(X)\n",
        "\n",
        "# Initialize the KNN model\n",
        "knn = KNeighborsRegressor(n_neighbors=5)\n",
        "\n",
        "# Fit the model\n",
        "knn.fit(X_preprocessed, y)\n",
        "\n",
        "# Predict\n",
        "y_pred_knn = knn.predict(X_preprocessed)\n",
        "\n",
        "# Calculate evaluation metrics\n",
        "rmse_knn = mean_squared_error(y, y_pred_knn, squared=False)\n",
        "mae_knn = mean_absolute_error(y, y_pred_knn)\n",
        "r2_knn = r2_score(y, y_pred_knn)\n",
        "\n",
        "# Print evaluation metrics\n",
        "print(f'RMSE: {rmse_knn}')\n",
        "print(f'MAE: {mae_knn}')\n",
        "print(f'R-squared: {r2_knn}')"
      ]
    },
    {
      "cell_type": "code",
      "execution_count": 45,
      "metadata": {
        "id": "qTdw8ek1zzYX"
      },
      "outputs": [],
      "source": [
        "import joblib\n",
        "y_prediction=[]\n",
        "for i in range(X_preprocessed.shape[0]):\n",
        "    check_data=X_preprocessed[i,0:]\n",
        "    joblib.dump(knn,'KNeighborsRegressor_model.pkl')\n",
        "    new_data=check_data.reshape(1,-1)\n",
        "    model=joblib.load('KNeighborsRegressor_model.pkl')\n",
        "    prediction=model.predict(new_data)\n",
        "    y_prediction.append(prediction)"
      ]
    },
    {
      "cell_type": "code",
      "execution_count": 46,
      "metadata": {
        "id": "foaedti63M5C"
      },
      "outputs": [],
      "source": [
        "y_actual=[]\n",
        "for i in range(y.shape[0]):\n",
        "    y_actual.append(y[i])"
      ]
    },
    {
      "cell_type": "code",
      "execution_count": 47,
      "metadata": {
        "id": "lLrvDRmt3pUg"
      },
      "outputs": [],
      "source": [
        "A=pd.Series(y_actual)\n",
        "B=pd.Series(y_prediction)"
      ]
    },
    {
      "cell_type": "code",
      "execution_count": 48,
      "metadata": {
        "colab": {
          "base_uri": "https://localhost:8080/",
          "height": 423
        },
        "id": "L4moLZJp30aH",
        "outputId": "7f8adeaf-fecd-407b-b84c-b2006a0f7376"
      },
      "outputs": [
        {
          "data": {
            "text/html": [
              "<div>\n",
              "<style scoped>\n",
              "    .dataframe tbody tr th:only-of-type {\n",
              "        vertical-align: middle;\n",
              "    }\n",
              "\n",
              "    .dataframe tbody tr th {\n",
              "        vertical-align: top;\n",
              "    }\n",
              "\n",
              "    .dataframe thead th {\n",
              "        text-align: right;\n",
              "    }\n",
              "</style>\n",
              "<table border=\"1\" class=\"dataframe\">\n",
              "  <thead>\n",
              "    <tr style=\"text-align: right;\">\n",
              "      <th></th>\n",
              "      <th>Actual_Values</th>\n",
              "      <th>Predicted_Values</th>\n",
              "    </tr>\n",
              "  </thead>\n",
              "  <tbody>\n",
              "    <tr>\n",
              "      <th>0</th>\n",
              "      <td>58998</td>\n",
              "      <td>[56179.4]</td>\n",
              "    </tr>\n",
              "    <tr>\n",
              "      <th>1</th>\n",
              "      <td>27999</td>\n",
              "      <td>[16999.0]</td>\n",
              "    </tr>\n",
              "    <tr>\n",
              "      <th>2</th>\n",
              "      <td>106900</td>\n",
              "      <td>[79339.6]</td>\n",
              "    </tr>\n",
              "    <tr>\n",
              "      <th>3</th>\n",
              "      <td>62900</td>\n",
              "      <td>[74439.6]</td>\n",
              "    </tr>\n",
              "    <tr>\n",
              "      <th>4</th>\n",
              "      <td>49990</td>\n",
              "      <td>[26593.6]</td>\n",
              "    </tr>\n",
              "    <tr>\n",
              "      <th>...</th>\n",
              "      <td>...</td>\n",
              "      <td>...</td>\n",
              "    </tr>\n",
              "    <tr>\n",
              "      <th>1354</th>\n",
              "      <td>2599</td>\n",
              "      <td>[2969.2]</td>\n",
              "    </tr>\n",
              "    <tr>\n",
              "      <th>1355</th>\n",
              "      <td>2940</td>\n",
              "      <td>[3828.6]</td>\n",
              "    </tr>\n",
              "    <tr>\n",
              "      <th>1356</th>\n",
              "      <td>2999</td>\n",
              "      <td>[3877.4]</td>\n",
              "    </tr>\n",
              "    <tr>\n",
              "      <th>1357</th>\n",
              "      <td>2498</td>\n",
              "      <td>[2687.0]</td>\n",
              "    </tr>\n",
              "    <tr>\n",
              "      <th>1358</th>\n",
              "      <td>3999</td>\n",
              "      <td>[3666.4]</td>\n",
              "    </tr>\n",
              "  </tbody>\n",
              "</table>\n",
              "<p>1359 rows × 2 columns</p>\n",
              "</div>"
            ],
            "text/plain": [
              "      Actual_Values Predicted_Values\n",
              "0             58998        [56179.4]\n",
              "1             27999        [16999.0]\n",
              "2            106900        [79339.6]\n",
              "3             62900        [74439.6]\n",
              "4             49990        [26593.6]\n",
              "...             ...              ...\n",
              "1354           2599         [2969.2]\n",
              "1355           2940         [3828.6]\n",
              "1356           2999         [3877.4]\n",
              "1357           2498         [2687.0]\n",
              "1358           3999         [3666.4]\n",
              "\n",
              "[1359 rows x 2 columns]"
            ]
          },
          "execution_count": 48,
          "metadata": {},
          "output_type": "execute_result"
        }
      ],
      "source": [
        "pd.concat([A,B],axis=1).rename(columns={0:'Actual_Values',1:'Predicted_Values'})"
      ]
    }
  ],
  "metadata": {
    "colab": {
      "provenance": []
    },
    "kernelspec": {
      "display_name": "Python 3",
      "name": "python3"
    },
    "language_info": {
      "codemirror_mode": {
        "name": "ipython",
        "version": 3
      },
      "file_extension": ".py",
      "mimetype": "text/x-python",
      "name": "python",
      "nbconvert_exporter": "python",
      "pygments_lexer": "ipython3",
      "version": "3.12.0"
    }
  },
  "nbformat": 4,
  "nbformat_minor": 0
}
